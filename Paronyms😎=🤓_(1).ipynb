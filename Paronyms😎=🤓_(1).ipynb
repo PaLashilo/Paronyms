{
  "cells": [
    {
      "cell_type": "code",
      "execution_count": null,
      "metadata": {
        "colab": {
          "base_uri": "https://localhost:8080/"
        },
        "id": "NmA11UEQawrn",
        "outputId": "acd702c5-8389-4252-f5ba-27f208065644"
      },
      "outputs": [
        {
          "name": "stdout",
          "output_type": "stream",
          "text": [
            "Collecting fuzzywuzzy\n",
            "  Downloading fuzzywuzzy-0.18.0-py2.py3-none-any.whl (18 kB)\n",
            "Installing collected packages: fuzzywuzzy\n",
            "Successfully installed fuzzywuzzy-0.18.0\n"
          ]
        }
      ],
      "source": [
        "%pip install fuzzywuzzy"
      ]
    },
    {
      "cell_type": "code",
      "execution_count": null,
      "metadata": {
        "colab": {
          "base_uri": "https://localhost:8080/"
        },
        "id": "u2RHh56Ja-Jo",
        "outputId": "5cad4b72-1980-4c76-f09d-6230244430e6"
      },
      "outputs": [
        {
          "name": "stdout",
          "output_type": "stream",
          "text": [
            "Collecting python-Levenshtein\n",
            "  Downloading python_Levenshtein-0.23.0-py3-none-any.whl (9.4 kB)\n",
            "Collecting Levenshtein==0.23.0 (from python-Levenshtein)\n",
            "  Downloading Levenshtein-0.23.0-cp310-cp310-manylinux_2_17_x86_64.manylinux2014_x86_64.whl (169 kB)\n",
            "\u001b[2K     \u001b[90m━━━━━━━━━━━━━━━━━━━━━━━━━━━━━━━━━━━━━━━━\u001b[0m \u001b[32m169.4/169.4 kB\u001b[0m \u001b[31m3.5 MB/s\u001b[0m eta \u001b[36m0:00:00\u001b[0m\n",
            "\u001b[?25hCollecting rapidfuzz<4.0.0,>=3.1.0 (from Levenshtein==0.23.0->python-Levenshtein)\n",
            "  Downloading rapidfuzz-3.5.2-cp310-cp310-manylinux_2_17_x86_64.manylinux2014_x86_64.whl (3.3 MB)\n",
            "\u001b[2K     \u001b[90m━━━━━━━━━━━━━━━━━━━━━━━━━━━━━━━━━━━━━━━━\u001b[0m \u001b[32m3.3/3.3 MB\u001b[0m \u001b[31m14.2 MB/s\u001b[0m eta \u001b[36m0:00:00\u001b[0m\n",
            "\u001b[?25hInstalling collected packages: rapidfuzz, Levenshtein, python-Levenshtein\n",
            "Successfully installed Levenshtein-0.23.0 python-Levenshtein-0.23.0 rapidfuzz-3.5.2\n"
          ]
        }
      ],
      "source": [
        "%pip install python-Levenshtein"
      ]
    },
    {
      "cell_type": "code",
      "execution_count": null,
      "metadata": {
        "id": "bYo7bAVbV8Id"
      },
      "outputs": [],
      "source": [
        "import networkx as nx\n",
        "\n",
        "G = nx.from_pandas_edgelist(transitions, 'prev_type', 'type', ['counts'])\n",
        "\n",
        "pos = nx.spring_layout(G)\n",
        "nx.draw(G, pos, with_labels=True, node_color='skyblue')\n",
        "edge_labels = nx.get_edge_attributes(G, 'counts')\n",
        "nx.draw_networkx_edge_labels(G, pos, edge_labels=edge_labels)\n",
        "plt.show()\n"
      ]
    },
    {
      "cell_type": "code",
      "execution_count": null,
      "metadata": {
        "id": "ewRGdxBL36Oq"
      },
      "outputs": [],
      "source": [
        "import matplotlib.pyplot as plt"
      ]
    },
    {
      "cell_type": "code",
      "execution_count": null,
      "metadata": {
        "id": "VJo7rviHii6A"
      },
      "outputs": [],
      "source": [
        "import requests\n",
        "from bs4 import BeautifulSoup\n",
        "import numpy as np\n",
        "\n",
        "\n",
        "paronyms = []\n",
        "\n",
        "\n",
        "# взятие паронимов с открытого ресурса\n",
        "home_url = 'https://ru-paronym.ru'\n",
        "ru_alphabet = [chr(i) for i in range(ord('А'), ord('А') + 32)]\n",
        "no_words = ['Ё', 'Й', 'Щ', 'Ъ', 'Ы', 'Ь']\n",
        "\n",
        "# Создаем множество всех слов из датасета паронимов\n",
        "all_words = set()\n",
        "\n",
        "for letter in ru_alphabet:\n",
        "    if letter in no_words:\n",
        "        continue\n",
        "    url = home_url + '/' + letter\n",
        "    html = requests.get(url)\n",
        "    soup = BeautifulSoup(html.content, 'html.parser')\n",
        "    arr = soup.find_all('a', href=True)[2:-27]  # Откидываем первые 2 и последние 27 элемента, которые есть на каждой странице\n",
        "    for elem in arr:\n",
        "        webpage = home_url + elem['href']\n",
        "        words = (elem.string).split(' — ')\n",
        "        paronyms.append([words[0] + '_' + words[1], 1])  # пары слов - паронимы\n",
        "        paronyms.append([words[1] + '_' + words[0], 1])  # пара в обратном порядке\n",
        "        all_words.update((words[0], words[1])) # Создаем множество всех слов из датасета паронимов"
      ]
    },
    {
      "cell_type": "code",
      "execution_count": null,
      "metadata": {
        "colab": {
          "base_uri": "https://localhost:8080/"
        },
        "id": "0ranqsxO1JOO",
        "outputId": "36aa5f4e-9d4a-45c5-b593-949812754176"
      },
      "outputs": [
        {
          "name": "stdout",
          "output_type": "stream",
          "text": [
            "[['абонемент_абонент', 1], ['абонент_абонемент', 1], ['абстрактность_абстракция', 1], ['абстракция_абстрактность', 1], ['авантюрин_авантюрист', 1], ['авантюрист_авантюрин', 1], ['автобиографический_автобиографичный', 1], ['автобиографичный_автобиографический', 1], ['автоматический_автоматичный', 1], ['автоматичный_автоматический', 1], ['автономия_автономность', 1], ['автономность_автономия', 1], ['авторитарный_авторитетный', 1], ['авторитетный_авторитарный', 1], ['адресант_адресат', 1], ['адресат_адресант', 1], ['азарт_азартность', 1], ['азартность_азарт', 1], ['академический_академичный', 1], ['академичный_академический', 1]]\n"
          ]
        }
      ],
      "source": [
        "# база данных с кортежами с меткой (1) - паронимы\n",
        "print(paronyms[:20])"
      ]
    },
    {
      "cell_type": "code",
      "execution_count": null,
      "metadata": {
        "id": "0aHMtbHj10mq"
      },
      "outputs": [],
      "source": [
        "import random\n",
        "\n",
        "# создание пар слов не паронимов путем перемешивания уже имеющихся слов\n",
        "def generate_non_paronyms(paronyms, seed = None):\n",
        "\n",
        "    non_paronyms = []\n",
        "\n",
        "    if seed:\n",
        "      random.seed(seed)\n",
        "\n",
        "    # Случайные пары из множества всех слов\n",
        "    for _ in range(len(paronyms)):\n",
        "        word1, word2 = random.choices(list(all_words), k=2)\n",
        "        if (word1 + ' ' + word2, 1) not in paronyms:\n",
        "          non_paronyms.append([word1 + '_' + word2, 0])  # Метка 0, так как это непаронимы\n",
        "\n",
        "    return non_paronyms\n",
        "\n",
        "non_paronyms = generate_non_paronyms(paronyms, 42)"
      ]
    },
    {
      "cell_type": "code",
      "execution_count": null,
      "metadata": {
        "colab": {
          "base_uri": "https://localhost:8080/"
        },
        "id": "Sx1kGPYl2uak",
        "outputId": "17151866-a7a4-45c0-c3b7-ee7b5b1c0598"
      },
      "outputs": [
        {
          "name": "stdout",
          "output_type": "stream",
          "text": [
            "[['снискать_экологичный', 0], ['целый_цельный', 1], ['бедственный_бесчувствие', 0], ['игольчатый_солярный', 0], ['сыскать_снискать', 1], ['начертать_начертить', 1], ['иноверный_индийский', 0], ['личностный_личный', 1], ['чеканный_чеканочный', 1], ['поедим_гагаровый', 0]]\n"
          ]
        }
      ],
      "source": [
        "dataset_par = paronyms + non_paronyms\n",
        "random.shuffle(dataset_par) # перемешивание датасета на всякий случай\n",
        "print(dataset_par[:10])"
      ]
    },
    {
      "cell_type": "code",
      "execution_count": null,
      "metadata": {
        "colab": {
          "base_uri": "https://localhost:8080/",
          "height": 750
        },
        "id": "76beZ84j36Iy",
        "outputId": "ba376755-2fc2-4b60-bb93-87669a77c1dc"
      },
      "outputs": [
        {
          "data": {
            "text/html": [
              "\n",
              "  <div id=\"df-77d4c764-3a95-400e-9353-e32559e780eb\" class=\"colab-df-container\">\n",
              "    <div>\n",
              "<style scoped>\n",
              "    .dataframe tbody tr th:only-of-type {\n",
              "        vertical-align: middle;\n",
              "    }\n",
              "\n",
              "    .dataframe tbody tr th {\n",
              "        vertical-align: top;\n",
              "    }\n",
              "\n",
              "    .dataframe thead th {\n",
              "        text-align: right;\n",
              "    }\n",
              "</style>\n",
              "<table border=\"1\" class=\"dataframe\">\n",
              "  <thead>\n",
              "    <tr style=\"text-align: right;\">\n",
              "      <th></th>\n",
              "      <th>word_pair</th>\n",
              "      <th>label</th>\n",
              "    </tr>\n",
              "  </thead>\n",
              "  <tbody>\n",
              "    <tr>\n",
              "      <th>0</th>\n",
              "      <td>снискать_экологичный</td>\n",
              "      <td>0</td>\n",
              "    </tr>\n",
              "    <tr>\n",
              "      <th>1</th>\n",
              "      <td>целый_цельный</td>\n",
              "      <td>1</td>\n",
              "    </tr>\n",
              "    <tr>\n",
              "      <th>2</th>\n",
              "      <td>бедственный_бесчувствие</td>\n",
              "      <td>0</td>\n",
              "    </tr>\n",
              "    <tr>\n",
              "      <th>3</th>\n",
              "      <td>игольчатый_солярный</td>\n",
              "      <td>0</td>\n",
              "    </tr>\n",
              "    <tr>\n",
              "      <th>4</th>\n",
              "      <td>сыскать_снискать</td>\n",
              "      <td>1</td>\n",
              "    </tr>\n",
              "    <tr>\n",
              "      <th>...</th>\n",
              "      <td>...</td>\n",
              "      <td>...</td>\n",
              "    </tr>\n",
              "    <tr>\n",
              "      <th>3511</th>\n",
              "      <td>гнилой_гнилостный</td>\n",
              "      <td>1</td>\n",
              "    </tr>\n",
              "    <tr>\n",
              "      <th>3512</th>\n",
              "      <td>произнесение_грозный</td>\n",
              "      <td>0</td>\n",
              "    </tr>\n",
              "    <tr>\n",
              "      <th>3513</th>\n",
              "      <td>абонемент_абонент</td>\n",
              "      <td>1</td>\n",
              "    </tr>\n",
              "    <tr>\n",
              "      <th>3514</th>\n",
              "      <td>останки_вдеть</td>\n",
              "      <td>0</td>\n",
              "    </tr>\n",
              "    <tr>\n",
              "      <th>3515</th>\n",
              "      <td>знамение_обезводить</td>\n",
              "      <td>0</td>\n",
              "    </tr>\n",
              "  </tbody>\n",
              "</table>\n",
              "<p>3516 rows × 2 columns</p>\n",
              "</div>\n",
              "    <div class=\"colab-df-buttons\">\n",
              "\n",
              "  <div class=\"colab-df-container\">\n",
              "    <button class=\"colab-df-convert\" onclick=\"convertToInteractive('df-77d4c764-3a95-400e-9353-e32559e780eb')\"\n",
              "            title=\"Convert this dataframe to an interactive table.\"\n",
              "            style=\"display:none;\">\n",
              "\n",
              "  <svg xmlns=\"http://www.w3.org/2000/svg\" height=\"24px\" viewBox=\"0 -960 960 960\">\n",
              "    <path d=\"M120-120v-720h720v720H120Zm60-500h600v-160H180v160Zm220 220h160v-160H400v160Zm0 220h160v-160H400v160ZM180-400h160v-160H180v160Zm440 0h160v-160H620v160ZM180-180h160v-160H180v160Zm440 0h160v-160H620v160Z\"/>\n",
              "  </svg>\n",
              "    </button>\n",
              "\n",
              "  <style>\n",
              "    .colab-df-container {\n",
              "      display:flex;\n",
              "      gap: 12px;\n",
              "    }\n",
              "\n",
              "    .colab-df-convert {\n",
              "      background-color: #E8F0FE;\n",
              "      border: none;\n",
              "      border-radius: 50%;\n",
              "      cursor: pointer;\n",
              "      display: none;\n",
              "      fill: #1967D2;\n",
              "      height: 32px;\n",
              "      padding: 0 0 0 0;\n",
              "      width: 32px;\n",
              "    }\n",
              "\n",
              "    .colab-df-convert:hover {\n",
              "      background-color: #E2EBFA;\n",
              "      box-shadow: 0px 1px 2px rgba(60, 64, 67, 0.3), 0px 1px 3px 1px rgba(60, 64, 67, 0.15);\n",
              "      fill: #174EA6;\n",
              "    }\n",
              "\n",
              "    .colab-df-buttons div {\n",
              "      margin-bottom: 4px;\n",
              "    }\n",
              "\n",
              "    [theme=dark] .colab-df-convert {\n",
              "      background-color: #3B4455;\n",
              "      fill: #D2E3FC;\n",
              "    }\n",
              "\n",
              "    [theme=dark] .colab-df-convert:hover {\n",
              "      background-color: #434B5C;\n",
              "      box-shadow: 0px 1px 3px 1px rgba(0, 0, 0, 0.15);\n",
              "      filter: drop-shadow(0px 1px 2px rgba(0, 0, 0, 0.3));\n",
              "      fill: #FFFFFF;\n",
              "    }\n",
              "  </style>\n",
              "\n",
              "    <script>\n",
              "      const buttonEl =\n",
              "        document.querySelector('#df-77d4c764-3a95-400e-9353-e32559e780eb button.colab-df-convert');\n",
              "      buttonEl.style.display =\n",
              "        google.colab.kernel.accessAllowed ? 'block' : 'none';\n",
              "\n",
              "      async function convertToInteractive(key) {\n",
              "        const element = document.querySelector('#df-77d4c764-3a95-400e-9353-e32559e780eb');\n",
              "        const dataTable =\n",
              "          await google.colab.kernel.invokeFunction('convertToInteractive',\n",
              "                                                    [key], {});\n",
              "        if (!dataTable) return;\n",
              "\n",
              "        const docLinkHtml = 'Like what you see? Visit the ' +\n",
              "          '<a target=\"_blank\" href=https://colab.research.google.com/notebooks/data_table.ipynb>data table notebook</a>'\n",
              "          + ' to learn more about interactive tables.';\n",
              "        element.innerHTML = '';\n",
              "        dataTable['output_type'] = 'display_data';\n",
              "        await google.colab.output.renderOutput(dataTable, element);\n",
              "        const docLink = document.createElement('div');\n",
              "        docLink.innerHTML = docLinkHtml;\n",
              "        element.appendChild(docLink);\n",
              "      }\n",
              "    </script>\n",
              "  </div>\n",
              "\n",
              "\n",
              "<div id=\"df-1df2ac94-10d8-4c56-b2b6-d6d5201da0b2\">\n",
              "  <button class=\"colab-df-quickchart\" onclick=\"quickchart('df-1df2ac94-10d8-4c56-b2b6-d6d5201da0b2')\"\n",
              "            title=\"Suggest charts\"\n",
              "            style=\"display:none;\">\n",
              "\n",
              "<svg xmlns=\"http://www.w3.org/2000/svg\" height=\"24px\"viewBox=\"0 0 24 24\"\n",
              "     width=\"24px\">\n",
              "    <g>\n",
              "        <path d=\"M19 3H5c-1.1 0-2 .9-2 2v14c0 1.1.9 2 2 2h14c1.1 0 2-.9 2-2V5c0-1.1-.9-2-2-2zM9 17H7v-7h2v7zm4 0h-2V7h2v10zm4 0h-2v-4h2v4z\"/>\n",
              "    </g>\n",
              "</svg>\n",
              "  </button>\n",
              "\n",
              "<style>\n",
              "  .colab-df-quickchart {\n",
              "      --bg-color: #E8F0FE;\n",
              "      --fill-color: #1967D2;\n",
              "      --hover-bg-color: #E2EBFA;\n",
              "      --hover-fill-color: #174EA6;\n",
              "      --disabled-fill-color: #AAA;\n",
              "      --disabled-bg-color: #DDD;\n",
              "  }\n",
              "\n",
              "  [theme=dark] .colab-df-quickchart {\n",
              "      --bg-color: #3B4455;\n",
              "      --fill-color: #D2E3FC;\n",
              "      --hover-bg-color: #434B5C;\n",
              "      --hover-fill-color: #FFFFFF;\n",
              "      --disabled-bg-color: #3B4455;\n",
              "      --disabled-fill-color: #666;\n",
              "  }\n",
              "\n",
              "  .colab-df-quickchart {\n",
              "    background-color: var(--bg-color);\n",
              "    border: none;\n",
              "    border-radius: 50%;\n",
              "    cursor: pointer;\n",
              "    display: none;\n",
              "    fill: var(--fill-color);\n",
              "    height: 32px;\n",
              "    padding: 0;\n",
              "    width: 32px;\n",
              "  }\n",
              "\n",
              "  .colab-df-quickchart:hover {\n",
              "    background-color: var(--hover-bg-color);\n",
              "    box-shadow: 0 1px 2px rgba(60, 64, 67, 0.3), 0 1px 3px 1px rgba(60, 64, 67, 0.15);\n",
              "    fill: var(--button-hover-fill-color);\n",
              "  }\n",
              "\n",
              "  .colab-df-quickchart-complete:disabled,\n",
              "  .colab-df-quickchart-complete:disabled:hover {\n",
              "    background-color: var(--disabled-bg-color);\n",
              "    fill: var(--disabled-fill-color);\n",
              "    box-shadow: none;\n",
              "  }\n",
              "\n",
              "  .colab-df-spinner {\n",
              "    border: 2px solid var(--fill-color);\n",
              "    border-color: transparent;\n",
              "    border-bottom-color: var(--fill-color);\n",
              "    animation:\n",
              "      spin 1s steps(1) infinite;\n",
              "  }\n",
              "\n",
              "  @keyframes spin {\n",
              "    0% {\n",
              "      border-color: transparent;\n",
              "      border-bottom-color: var(--fill-color);\n",
              "      border-left-color: var(--fill-color);\n",
              "    }\n",
              "    20% {\n",
              "      border-color: transparent;\n",
              "      border-left-color: var(--fill-color);\n",
              "      border-top-color: var(--fill-color);\n",
              "    }\n",
              "    30% {\n",
              "      border-color: transparent;\n",
              "      border-left-color: var(--fill-color);\n",
              "      border-top-color: var(--fill-color);\n",
              "      border-right-color: var(--fill-color);\n",
              "    }\n",
              "    40% {\n",
              "      border-color: transparent;\n",
              "      border-right-color: var(--fill-color);\n",
              "      border-top-color: var(--fill-color);\n",
              "    }\n",
              "    60% {\n",
              "      border-color: transparent;\n",
              "      border-right-color: var(--fill-color);\n",
              "    }\n",
              "    80% {\n",
              "      border-color: transparent;\n",
              "      border-right-color: var(--fill-color);\n",
              "      border-bottom-color: var(--fill-color);\n",
              "    }\n",
              "    90% {\n",
              "      border-color: transparent;\n",
              "      border-bottom-color: var(--fill-color);\n",
              "    }\n",
              "  }\n",
              "</style>\n",
              "\n",
              "  <script>\n",
              "    async function quickchart(key) {\n",
              "      const quickchartButtonEl =\n",
              "        document.querySelector('#' + key + ' button');\n",
              "      quickchartButtonEl.disabled = true;  // To prevent multiple clicks.\n",
              "      quickchartButtonEl.classList.add('colab-df-spinner');\n",
              "      try {\n",
              "        const charts = await google.colab.kernel.invokeFunction(\n",
              "            'suggestCharts', [key], {});\n",
              "      } catch (error) {\n",
              "        console.error('Error during call to suggestCharts:', error);\n",
              "      }\n",
              "      quickchartButtonEl.classList.remove('colab-df-spinner');\n",
              "      quickchartButtonEl.classList.add('colab-df-quickchart-complete');\n",
              "    }\n",
              "    (() => {\n",
              "      let quickchartButtonEl =\n",
              "        document.querySelector('#df-1df2ac94-10d8-4c56-b2b6-d6d5201da0b2 button');\n",
              "      quickchartButtonEl.style.display =\n",
              "        google.colab.kernel.accessAllowed ? 'block' : 'none';\n",
              "    })();\n",
              "  </script>\n",
              "</div>\n",
              "    </div>\n",
              "  </div>\n"
            ],
            "text/plain": [
              "                    word_pair  label\n",
              "0        снискать_экологичный      0\n",
              "1               целый_цельный      1\n",
              "2     бедственный_бесчувствие      0\n",
              "3         игольчатый_солярный      0\n",
              "4            сыскать_снискать      1\n",
              "...                       ...    ...\n",
              "3511        гнилой_гнилостный      1\n",
              "3512     произнесение_грозный      0\n",
              "3513        абонемент_абонент      1\n",
              "3514            останки_вдеть      0\n",
              "3515      знамение_обезводить      0\n",
              "\n",
              "[3516 rows x 2 columns]"
            ]
          },
          "execution_count": 8,
          "metadata": {},
          "output_type": "execute_result"
        },
        {
          "name": "stderr",
          "output_type": "stream",
          "text": [
            "WARNING:root:Quickchart encountered unexpected dtypes in columns: \"(['word_pair'],)\"\n"
          ]
        },
        {
          "data": {
            "text/html": [
              "<h4 class=\"colab-quickchart-section-title\">Distributions</h4>\n",
              "<style>\n",
              "  .colab-quickchart-section-title {\n",
              "      clear: both;\n",
              "  }\n",
              "</style>"
            ],
            "text/plain": [
              "<google.colab._quickchart_helpers.SectionTitle at 0x7fd163a63820>"
            ]
          },
          "metadata": {},
          "output_type": "display_data"
        },
        {
          "data": {
            "text/html": [
              "      <div class=\"colab-quickchart-chart-with-code\" id=\"chart-db382b13-bc22-489b-a00a-6c67b19c7791\">\n",
              "        <img style=\"width: 180px;\" src=\"data:image/png;base64,iVBORw0KGgoAAAANSUhEUgAAAjUAAAGrCAYAAAA4kWY2AAAAOXRFWHRTb2Z0d2FyZQBNYXRwbG90\n",
              "bGliIHZlcnNpb24zLjcuMSwgaHR0cHM6Ly9tYXRwbG90bGliLm9yZy/bCgiHAAAACXBIWXMAAA9h\n",
              "AAAPYQGoP6dpAAAjSklEQVR4nO3df1BVdf7H8deVq1QmsEEiyi9NQEuCNBi+loqVo/kjf6/l+INM\n",
              "wcpxy2YVp5p+jqw7bmbbNpDDuqPMmpa2OVGu/TDNNAGVLBt/sIiwJuBiivbNq1zO949m77e7Ynuv\n",
              "cu+Fj8/HzJnxnnPu4X3ONPGcew/32izLsgQAANDOdQj0AAAAAK2BqAEAAEYgagAAgBGIGgAAYASi\n",
              "BgAAGIGoAQAARiBqAACAEYgaAABgBKIGAAAYgagB0GZkZmbqmWeeafV9L8dms+njjz++qmMAaDuI\n",
              "GgAAYASiBgAAGIGoAdAmZWdnKz4+XjfeeKN69uyp5557Ts3NzW77nD59WhMmTFCXLl3Uu3dvrV69\n",
              "2m377t27lZmZqfDwcMXFxenZZ59VU1OTP08DgB8RNQDapPT0dO3evVtnz57V2rVr9frrr2vlypVu\n",
              "+xQWFurhhx/W999/r9dee02zZ8/WF198IUk6dOiQ7r33Xs2dO1d1dXXavn27Nm3apKVLlwbidAD4\n",
              "AVEDoE2aPXu2IiMjZbPZlJGRoWnTpmnLli1u+4wcOVJjxoyR3W7XyJEjNX78eP35z3+WJP3pT3/S\n",
              "mDFj9OCDD8putysuLk4LFy7UqlWrAnE6APzAHugBAOA/WZalJUuW6K9//au+++47WZal8+fPKy0t\n",
              "zW2/nj17XvJ47969kqQjR45o69atCgsLc21vbm6+5C0sAObglRoAbc5bb72lV199VatXr9a//vUv\n",
              "nT59Wjk5ObIsy22/qqqqSx5HR0dLkrp166apU6fq9OnTrqWxsVHnzp3z12kA8DOiBkCbc+bMGdnt\n",
              "dnXt2lU2m01bt25VUVHRJft98MEHKi4ultPp1ObNm/Xuu+/q4YcfliQ99thjeuedd/T222/rwoUL\n",
              "cjqdqqio0ObNm/19OgD8hKgB0OZkZWXp3nvvVXJysiIiIpSfn69p06Zdst+sWbNUWFiosLAwPf74\n",
              "48rPz9egQYMkSWlpafroo4+0cuVK9ejRQ+Hh4Zo0aZKOHTvm79MB4Cc26z9fzwUAAGiHeKUGAAAY\n",
              "gagBAABGIGoAAIARiBoAAGAEogYAABiBqAEAAEYgagAAgBGuqahZsWJFoEcAAAA+ck1FDZ8kCgCA\n",
              "ua6pqAEAAOYiagAAgBGIGgAAYASiBgAAGIGoAQAARiBqAACAEYgaAABgBKIGAAAYgagBAABGIGoA\n",
              "AIARiBoAAGAEogYAABiBqAEAAEYgagAAgBF8GjXz589XfHy8bDabysvLJUkNDQ1KTU11LYmJibLb\n",
              "7Tp16pQkKTMzUz179nRtX758uet49fX1GjFihBISEtSvXz9t377dl+MDAIB2xO7Lg0+aNEkLFy7U\n",
              "3Xff7VoXHh7uChxJWrZsmbZt26abbrrJtW758uUaN27cJcfLzc1VRkaGNm/erNLSUo0fP15Hjx5V\n",
              "x44dfXkaHonPLfbJcat+N8onxwUAXJt89ftKCvzvLJ9GzeDBg//rPoWFhcrLy/PoeOvXr1dFRYUk\n",
              "KS0tTd27d9e2bdt03333XbKvw+GQw+FwW+d0Oj36OQAAoP0J6D01O3fu1Pfff6/Ro0e7rc/NzVVy\n",
              "crKmTJmiyspKST+9bXXx4kV169bNtV98fLyqq6tbPHZeXp5CQ0PdlpKSEt+dDAAACKiARk1hYaFm\n",
              "zJghu/3/XzBas2aNDh48qP3792vQoEGXBI+nFi9erDNnzrgt6enprTU6AABoYwIWNefOndP69es1\n",
              "a9Yst/UxMTGSJJvNpnnz5qmyslINDQ0KDw+X3W5XbW2ta9+qqirFxsa2ePzg4GCFhIS4LUFBQb47\n",
              "IQAAEFABi5p169YpJSVFffr0ca1rampSXV2d6/GGDRsUGRmp8PBwSdLkyZOVn58vSSotLdXx48c1\n",
              "ZMgQ/w4OAADaJJ/eKJyTk6Pi4mLV1tZq+PDh6tKli+tG38LCQs2ZM8dtf4fDoVGjRsnhcKhDhw6K\n",
              "iIjQpk2bXNuXLl2q6dOnKyEhQZ06dVJRUVGb+MsnAAAQeD6NmoKCgstu27lz5yXrOnfurLKysss+\n",
              "JzIyUlu2bGmV2QAAgFn4RGEAAGAEogYAABiBqAEAAEYgagAAgBGIGgAAYASiBgAAGIGoAQAARiBq\n",
              "AACAEYgaAABgBKIGAAAYgagBAABGIGoAAIARiBoAAGAEogYAABiBqAEAAEYgagAAgBGIGgAAYASi\n",
              "BgAAGIGoAQAARiBqAACAEYgaAABgBKIGAAAYgagBAABGIGoAAIARiBoAAGAEogYAABiBqAEAAEYg\n",
              "agAAgBGIGgAAYASiBgAAGIGoAQAARiBqAACAEYgaAABgBKIGAAAYgagBAABGIGoAAIARiBoAAGAE\n",
              "ogYAABiBqAEAAEYgagAAgBGIGgAAYASfRs38+fMVHx8vm82m8vJy1/r4+HglJSUpNTVVqampWrdu\n",
              "nWvbkSNHNHDgQCUmJiotLU0HDhzwaBsAALi2+TRqJk2apB07diguLu6SbevWrVN5ebnKy8s1ZcoU\n",
              "1/qcnBxlZ2fr8OHDWrRokbKysjzaBgAArm0+jZrBgwcrOjra4/3r6+tVVlamadOmSZImTpyompoa\n",
              "VVRU/OK2ljgcDjU2NrotTqfz6k8KAAC0SQG7p2bGjBlKTk7WI488opMnT0qSampqFBUVJbvdLkmy\n",
              "2WyKjY1VdXX1L25rSV5enkJDQ92WkpIS/5wcAADwu4BEzfbt27V//37t3btXERERmjlzZqv/jMWL\n",
              "F+vMmTNuS3p6eqv/HAAA0DbYA/FDY2NjJUkdO3bUE088ocTERElSTEyMTpw4oaamJtntdlmWperq\n",
              "asXGxiokJOSy21oSHBys4OBgt3VBQUG+PTEAABAwfn+l5ocfftDp06ddj9euXas77rhDktS1a1f1\n",
              "799fRUVFkqQNGzYoOjpavXv3/sVtAAAAPn2lJicnR8XFxaqtrdXw4cPVpUsXbdmyRRMnTpTT6ZRl\n",
              "WerVq5dWr17tek5BQYGysrK0ZMkShYSEaNWqVR5tAwAA1zafRk1BQUGL6/ft23fZ5yQlJWnXrl1e\n",
              "bwMAANc2PlEYAAAYgagBAABGIGoAAIARiBoAAGAEogYAABiBqAEAAEYgagAAgBGIGgAAYASiBgAA\n",
              "GIGoAQAARiBqAACAEYgaAABgBKIGAAAYgagBAABGIGoAAIARiBoAAGAEogYAABiBqAEAAEYgagAA\n",
              "gBGIGgAAYASiBgAAGIGoAQAARiBqAACAEYgaAABgBKIGAAAYgagBAABGIGoAAIARiBoAAGAEogYA\n",
              "ABiBqAEAAEYgagAAgBGIGgAAYASiBgAAGIGoAQAARiBqAACAEYgaAABgBKIGAAAYgagBAABGIGoA\n",
              "AIARiBoAAGAEogYAABjBp1Ezf/58xcfHy2azqby8XJJ0/vx5jRs3TomJiUpJSdGwYcNUUVHhek5m\n",
              "ZqZ69uyp1NRUpaamavny5a5t9fX1GjFihBISEtSvXz9t377dl+MDAIB2xKdRM2nSJO3YsUNxcXFu\n",
              "67Ozs3Xo0CF99dVXGjt2rGbPnu22ffny5SovL1d5ebmefPJJ1/rc3FxlZGToyJEjWrVqlaZOnaqL\n",
              "Fy/68hQAAEA74dOoGTx4sKKjo93WXXfddRo5cqRsNpskKSMjQ1VVVR4db/369Zo7d64kKS0tTd27\n",
              "d9e2bdta3NfhcKixsdFtcTqdV34yAACgTQv4PTUrVqzQ2LFj3dbl5uYqOTlZU6ZMUWVlpSSpoaFB\n",
              "Fy9eVLdu3Vz7xcfHq7q6usXj5uXlKTQ01G0pKSnx3YkAAICACmjULFmyRBUVFcrLy3OtW7NmjQ4e\n",
              "PKj9+/dr0KBBGj169BUde/HixTpz5ozbkp6e3lqjAwCANiZgUbNs2TJt3LhRH374oW644QbX+piY\n",
              "GEmSzWbTvHnzVFlZqYaGBoWHh8tut6u2tta1b1VVlWJjY1s8fnBwsEJCQtyWoKAg354UAAAImIBE\n",
              "zSuvvKK1a9fqo48+UlhYmGt9U1OT6urqXI83bNigyMhIhYeHS5ImT56s/Px8SVJpaamOHz+uIUOG\n",
              "+HV2AADQNtl9efCcnBwVFxertrZWw4cPV5cuXfTZZ5/pqaeeUq9evTR06FBJP72qsnv3bjkcDo0a\n",
              "NUoOh0MdOnRQRESENm3a5Dre0qVLNX36dCUkJKhTp04qKipSx44dfXkKAACgnfBp1BQUFLS43rKs\n",
              "Ftd37txZZWVllz1eZGSktmzZ0iqzAQAAswT8r58AAABaA1EDAACMQNQAAAAjEDUAAMAIRA0AADAC\n",
              "UQMAAIxA1AAAACMQNQAAwAhEDQAAMAJRAwAAjEDUAAAAIxA1AADACEQNAAAwAlEDAACMQNQAAAAj\n",
              "EDUAAMAIRA0AADACUQMAAIxA1AAAACMQNQAAwAhEDQAAMAJRAwAAjEDUAAAAIxA1AADACEQNAAAw\n",
              "AlEDAACMQNQAAAAjEDUAAMAIRA0AADACUQMAAIxA1AAAACMQNQAAwAhEDQAAMAJRAwAAjOB11Pz9\n",
              "73/3xRwAAABXxeuoefHFF5WUlKQVK1aosbHRFzMBAAB4zeuo+eKLL/TWW2/pm2++UWJioh577DF9\n",
              "++23vpgNAADAY1d0T80dd9yhlStXavPmzXr//fd1++23a9iwYfr6669bez4AAACPXFHUfPzxxxo7\n",
              "dqwmTJigxx9/XLW1tcrJydH48eNbez4AAACP2L19Qt++fRUREaH58+drwoQJCgoKkiRNmjRJhYWF\n",
              "rT4gAACAJ7yOmqKiIg0YMKDFbR9++OFVDwQAAHAlvH77ac+ePTp16pTrcUNDg1auXNnivvPnz1d8\n",
              "fLxsNpvKy8td648cOaKBAwcqMTFRaWlpOnDgwFVvAwAA1zavo+aNN97QTTfd5HocHh6uN954o8V9\n",
              "J02apB07diguLs5tfU5OjrKzs3X48GEtWrRIWVlZV70NAABc27yOGsuyLlnndDpb3Hfw4MGKjo52\n",
              "W1dfX6+ysjJNmzZNkjRx4kTV1NSooqLiire1xOFwqLGx0W253JwAAKD98zpqoqKitH79etfjdevW\n",
              "KSoqyuPn19TUKCoqSnb7T7fz2Gw2xcbGqrq6+oq3tSQvL0+hoaFuS0lJibenCwAA2gmvbxR+9dVX\n",
              "NXbsWC1cuFCSdMMNN+i9995r9cGu1uLFi7VgwQK3dc8++2yApgEAAL7mddT06dNH3377rQ4dOiRJ\n",
              "SkpKcv1ZtydiYmJ04sQJNTU1yW63y7IsVVdXKzY2ViEhIVe0rSXBwcEKDg52W+fNnAAAoH25og/f\n",
              "s9lsCgsL04033qjjx49f9i2glnTt2lX9+/dXUVGRJGnDhg2Kjo5W7969r3gbAACA16/U/OUvf9H8\n",
              "+fPVsWNHdejwUxPZbDbV19dfsm9OTo6Ki4tVW1ur4cOHq0uXLqqoqFBBQYGysrK0ZMkShYSEaNWq\n",
              "Va7nXOk2AABwbfM6al566SWVlpYqKSnpv+5bUFDQ4vqkpCTt2rWrVbcBAIBrm9dvP0VERHgUNAAA\n",
              "AP7kddSMGzdOr776qurr690+AwYAACCQvH776emnn5YkLViwQDabTZZlyWaz8cF2AAAgoLyOmubm\n",
              "Zl/MAQAAcFWu6E+69+zZozVr1kiSTp8+rRMnTrTqUAAAAN66oi+0nDVrlp5//nlJP31L99SpU1t7\n",
              "LgAAAK94HTVvvvmmvvzyS4WEhEiSbrnlFp08ebLVBwMAAPCG11ETHBys66+/3m3dv79kEgAAIFC8\n",
              "jpqbb75Zhw8fls1mk/TTJwxf7vuXAAAA/OWKvqX7oYce0sGDBxUTE6OQkBC9//77vpgNAADAY15H\n",
              "Te/evbV7924dOnRIlmV5/S3dAAAAvuB11Pz7G7k7d+4sSTp+/Lgk8RYUAAAIKK+jZsCAAa5PEj5/\n",
              "/rz+93//V+Hh4S1+SzcAAIC/eB01//nn2xs3btRXX33VagMBAABciSv6ROGfmzBhgoqLi1tjFgAA\n",
              "gCvm9Ss1P/9GbqfTqd27d/Mt3QAAIOC8jpqwsDDXPTVBQUFKSEjQa6+95ovZAAAAPMa3dAMAACNc\n",
              "9T01AAAAbYHXr9R06NDB9RUJP2dZlmw2m5xOZ6sMBgAA4A2vo+bFF1/Ujz/+qEcffVSSlJ+fr+uv\n",
              "v15PPPFEa88GAADgMa+j5t1339WePXtcj19++WUNGDBATz/9dKsOBgAA4A2v76k5e/as26cH19fX\n",
              "6+zZs606FAAAgLe8fqXmqaeeUkpKikaOHClJ2rx5s55//vnWngsAAMArXkdNTk6O7rrrLm3dulWS\n",
              "tGDBAt12222tPhgAAIA3vI4aSQoPD1dycrIyMzPV1NSkCxcuqFOnTq09GwAAgMe8vqfmnXfeUUZG\n",
              "hh5++GFJ0oEDBzRu3LjWngsAAMArXkdNXl6e9u7dq7CwMElSSkqKjh071tpzAQAAeMXrqAkKClJ4\n",
              "eLjbOt56AgAAgeZ11HTp0kV1dXWuTxX+5JNPdNNNN7X6YAAAAN7w+kbhpUuX6v7771dlZaXuvvtu\n",
              "HT16VMXFxb6YDQAAwGNeRU1zc7OcTqe2bt2qnTt3yrIsDRw40HV/DQAAQKB4FTUdOnRQdna2vvrq\n",
              "K91///2+mgkAAMBrXt9Tk5CQoIqKCl/MAgAAcMW8vqfm1KlTSk1N1cCBA3XjjTe61m/cuLFVBwMA\n",
              "APCGx1GTnZ2tN998UzNnztQDDzygX/3qV76cCwAAwCseR01ZWZkkaebMmerfv7/27t3rs6EAAAC8\n",
              "5fU9NZJkWVZrzwEAAHBVPH6l5scff9TXX38ty7J0/vx517//7fbbb/fJgAAAAJ7wKmoeeOAB1+Of\n",
              "/9tms6mysrJ1JwMAAPCCx1FTVVXlwzEAAACuzhXdU3O1GhoalJqa6loSExNlt9t16tQpZWZmqmfP\n",
              "nq5ty5cvdz2vvr5eI0aMUEJCgvr166ft27cHYnwAANAGef05Na0hPDxc5eXlrsfLli3Ttm3bXF+M\n",
              "uXz5co0bN+6S5+Xm5iojI0ObN29WaWmpxo8fr6NHj6pjx45+mhwAALRVAYma/1RYWKi8vLz/ut/6\n",
              "9etdn2aclpam7t27a9u2bbrvvvsu2dfhcMjhcLitczqdrTMwAABocwLy9tPP7dy5U99//71Gjx7t\n",
              "Wpebm6vk5GRNmTLFdQNyQ0ODLl68qG7durn2i4+PV3V1dYvHzcvLU2hoqNtSUlLi25MBAAABE/Co\n",
              "KSws1IwZM2S3//Si0Zo1a3Tw4EHt379fgwYNcosdbyxevFhnzpxxW9LT01tzdAAA0IYENGrOnTun\n",
              "9evXa9asWa51MTExkn76M/F58+apsrJSDQ0NCg8Pl91uV21trWvfqqoqxcbGtnjs4OBghYSEuC1B\n",
              "QUG+PSEAABAwAY2adevWKSUlRX369JEkNTU1qa6uzrV9w4YNioyMVHh4uCRp8uTJys/PlySVlpbq\n",
              "+PHjGjJkiP8HBwAAbU5AbxQuLCzUnDlzXI8dDodGjRolh8OhDh06KCIiQps2bXJtX7p0qaZPn66E\n",
              "hAR16tRJRUVF/OUTAACQFOCo2blzp9vjzp07u744syWRkZHasmWLr8cCAADtUMBvFAYAAGgNRA0A\n",
              "ADACUQMAAIxA1AAAACMQNQAAwAhEDQAAMAJRAwAAjEDUAAAAIxA1AADACEQNAAAwAlEDAACMQNQA\n",
              "AAAjEDUAAMAIRA0AADACUQMAAIxA1AAAACMQNQAAwAhEDQAAMAJRAwAAjEDUAAAAIxA1AADACEQN\n",
              "AAAwAlEDAACMQNQAAAAjEDUAAMAIRA0AADACUQMAAIxA1AAAACMQNQAAwAhEDQAAMAJRAwAAjEDU\n",
              "AAAAIxA1AADACEQNAAAwAlEDAACMQNQAAAAjEDUAAMAIRA0AADACUQMAAIxA1AAAACMQNQAAwAgB\n",
              "i5r4+HglJSUpNTVVqampWrdunSTpyJEjGjhwoBITE5WWlqYDBw64nvNL2wAAwLUtoK/UrFu3TuXl\n",
              "5SovL9eUKVMkSTk5OcrOztbhw4e1aNEiZWVlufb/pW0AAODa1qbefqqvr1dZWZmmTZsmSZo4caJq\n",
              "ampUUVHxi9ta4nA41NjY6LY4nU6/nQsAAPCvgEbNjBkzlJycrEceeUQnT55UTU2NoqKiZLfbJUk2\n",
              "m02xsbGqrq7+xW0tycvLU2hoqNtSUlLit3MDAAD+FbCo2b59u/bv36+9e/cqIiJCM2fObNXjL168\n",
              "WGfOnHFb0tPTW/VnAACAtsMeqB8cGxsrSerYsaOeeOIJJSYmKiYmRidOnFBTU5Psdrssy1J1dbVi\n",
              "Y2MVEhJy2W0tCQ4OVnBwsNu6oKAgn58XAAAIjIC8UvPDDz/o9OnTrsdr167VHXfcoa5du6p///4q\n",
              "KiqSJG3YsEHR0dHq3bv3L24DAAAIyCs1dXV1mjhxopxOpyzLUq9evbR69WpJUkFBgbKysrRkyRKF\n",
              "hIRo1apVruf90jYAAHBtC0jU9OrVS/v27WtxW1JSknbt2uX1NgAAcG1rU3/SDQAAcKWIGgAAYASi\n",
              "BgAAGIGoAQAARiBqAACAEYgaAABgBKIGAAAYgagBAABGIGoAAIARiBoAAGAEogYAABiBqAEAAEYg\n",
              "agAAgBGIGgAAYASiBgAAGIGoAQAARiBqAACAEYgaAABgBKIGAAAYgagBAABGIGoAAIARiBoAAGAE\n",
              "ogYAABiBqAEAAEYgagAAgBGIGgAAYASiBgAAGIGoAQAARiBqAACAEYgaAABgBKIGAAAYgagBAABG\n",
              "IGoAAIARiBoAAGAEogYAABiBqAEAAEYgagAAgBGIGgAAYASiBgAAGIGoAQAARiBqAACAEQISNefP\n",
              "n9e4ceOUmJiolJQUDRs2TBUVFZKkzMxM9ezZU6mpqUpNTdXy5ctdz6uvr9eIESOUkJCgfv36afv2\n",
              "7YEYHwAAtEH2QP3g7Oxs3X///bLZbHr99dc1e/ZsffbZZ5Kk5cuXa9y4cZc8Jzc3VxkZGdq8ebNK\n",
              "S0s1fvx4HT16VB07dvTv8AAAoM0JyCs11113nUaOHCmbzSZJysjIUFVV1X993vr16zV37lxJUlpa\n",
              "mrp3765t27a1uK/D4VBjY6Pb4nQ6W+0cAABA29Im7qlZsWKFxo4d63qcm5ur5ORkTZkyRZWVlZKk\n",
              "hoYGXbx4Ud26dXPtFx8fr+rq6haPmZeXp9DQULelpKTEtycCAAACJuBRs2TJElVUVCgvL0+StGbN\n",
              "Gh08eFD79+/XoEGDNHr06Cs67uLFi3XmzBm3JT09vTVHBwAAbUhAo2bZsmXauHGjPvzwQ91www2S\n",
              "pJiYGEmSzWbTvHnzVFlZqYaGBoWHh8tut6u2ttb1/KqqKsXGxrZ47ODgYIWEhLgtQUFBvj8pAAAQ\n",
              "EAGLmldeeUVr167VRx99pLCwMElSU1OT6urqXPts2LBBkZGRCg8PlyRNnjxZ+fn5kqTS0lIdP35c\n",
              "Q4YM8fvsAACg7QnIXz/985//1FNPPaVevXpp6NChkn56ZeXTTz/VqFGj5HA41KFDB0VERGjTpk2u\n",
              "5y1dulTTp09XQkKCOnXqpKKiIv7yCQAASApQ1ERHR8uyrBa3lZWVXfZ5kZGR2rJli6/GAgAA7VjA\n",
              "bxQGAABoDUQNAAAwAlEDAACMQNQAAAAjEDUAAMAIRA0AADACUQMAAIxA1AAAACMQNQAAwAhEDQAA\n",
              "MAJRAwAAjEDUAAAAIxA1AADACEQNAAAwAlEDAACMQNQAAAAjEDUAAMAIRA0AADACUQMAAIxA1AAA\n",
              "ACMQNQAAwAhEDQAAMAJRAwAAjEDUAAAAIxA1AADACEQNAAAwAlEDAACMQNQAAAAjEDUAAMAIRA0A\n",
              "ADACUQMAAIxA1AAAACMQNQAAwAhEDQAAMAJRAwAAjEDUAAAAIxA1AADACEQNAAAwAlEDAACMQNQA\n",
              "AAAjEDUAAMAI7S5qjhw5ooEDByoxMVFpaWk6cOBAoEcCAABtQLuLmpycHGVnZ+vw4cNatGiRsrKy\n",
              "Aj0SAABoA9pV1NTX16usrEzTpk2TJE2cOFE1NTWqqKi4ZF+Hw6HGxka3xel0+ntkAADgJ/ZAD+CN\n",
              "mpoaRUVFyW7/aWybzabY2FhVV1erd+/ebvvm5eXphRdecFvXp08fLViwoNXncjqdiiopUXp6uoKC\n",
              "glr12AsWfNKqx2vPnE6nSnx0nfH/uM7+wXX2H661uwk+Oq7T6dT//M/LPrnOcXFx+s1vfvNf97NZ\n",
              "lmW16k/2oT179mjq1Kk6dOiQa116erp+97vf6Z577nHb1+FwyOFwuK0LDg5WcHBwq8/V2Nio0NBQ\n",
              "nTlzRiEhIa1+fPyE6+wfXGf/4Dr7D9faP9rCdW5Xr9TExMToxIkTampqkt1ul2VZqq6uVmxs7CX7\n",
              "+ipgAABA29Su7qnp2rWr+vfvr6KiIknShg0bFB0dfclbTwAA4NrTrl6pkaSCggJlZWVpyZIlCgkJ\n",
              "0apVqwI9EgAAaAPaXdQkJSVp165dgR7DTXBwsJ577jne7vIxrrN/cJ39g+vsP1xr/2gL17ld3SgM\n",
              "AABwOe3qnhoAAIDLIWoAAIARiBoAAGAEogYAABiBqPGCp98QXlhYqISEBN1yyy2aM2eOLl686OdJ\n",
              "2zdPrvOnn36q9PR03Xrrrbrtttu0cOFCNTc3B2Da9subb7y3LEv33HOPwsLC/DegITy9zl9//bUy\n",
              "MzPVt29f9e3bVxs3bvTzpO2bJ9e5ublZCxYs0K233qrbb79dQ4cObfG7A3F58+fPV3x8vGw2m8rL\n",
              "yy+7X8B+D1rw2NChQ61Vq1ZZlmVZb7/9tnXnnXdesk9lZaUVFRVlnThxwmpubrbGjBljvf76636e\n",
              "tH3z5Drv3bvX+sc//mFZlmX9+OOP1l133eV6DjzjyXX+tz/84Q/W7NmzrdDQUP8MZxBPrvMPP/xg\n",
              "9ezZ0/r8888ty7KspqYmq76+3p9jtnueXOd3333XSk9Pty5cuGBZlmW99NJL1uTJk/05Zru3bds2\n",
              "q6amxoqLi7P27dvX4j6B/D1I1Hiorq7O6tKli3Xx4kXLsiyrubnZioyMtI4cOeK23+9//3srJyfH\n",
              "9bi4uNi66667/Dpre+bpdf5Pjz/+uPXcc8/5YUIzeHOdv/nmG2vQoEFWRUUFUeMlT6/zypUrrYce\n",
              "eigQIxrB0+v8t7/9zUpJSbEaGxut5uZm67e//a315JNPBmLkdu+XoiaQvwd5+8lDv/QN4T9XXV2t\n",
              "uLg41+P4+PhL9sHleXqdf662tlbvvPOORo8e7a8x2z1Pr/PFixc1Z84cFRQU8O3GV8DT6/ztt98q\n",
              "ODhYo0ePVmpqqmbMmKGTJ08GYuR2ydPrPGbMGGVmZqpbt26KiorSJ598ohdffDEQIxstkL8HiRq0\n",
              "a42NjRozZowWLlyoO++8M9DjGOeFF17QhAkT1Ldv30CPYrSmpiZ9/PHHKigo0L59+9SjRw89+uij\n",
              "gR7LOGVlZfrmm290/Phxfffdd7r33ns1d+7cQI+FVkTUeOjn3xAu6bLfEB4bG6tjx465HldVVbX4\n",
              "LeJomafXWZLOnj2rESNGaOzYsVqwYIG/R23XPL3O27Zt0x//+EfFx8fr7rvvVmNjo+Lj43kVwUPe\n",
              "/H9j6NCh6tGjh2w2m6ZNm6Yvv/wyECO3S55e59WrV7tueO/QoYNmzpyprVu3BmJkowXy9yBR4yFP\n",
              "vyF84sSJ2rRpk2pra2VZlvLz8/Xggw8GYuR2ydPrfO7cOY0YMUIjRozQM888E4hR2zVPr/Pnn3+u\n",
              "Y8eOqaqqSjt27FBISIiqqqp08803B2LsdsfT6/zrX/9apaWlamxslCR98MEHSklJ8fu87ZWn17lX\n",
              "r1769NNPdeHCBUnS+++/r379+vl9XtMF9PegX+7cMcTBgwetjIwMKyEhwRowYIC1f/9+y7Is65FH\n",
              "HrHee+89135vvvmm1atXL6tXr17WrFmzXHfawzOeXOeXX37ZstvtVkpKimt5+eWXAzl2u+Ppf8//\n",
              "dvToUW4UvgKeXufVq1dbt912m5WcnGyNGDHCqq6uDtTI7ZIn1/n8+fPW7NmzrT59+ljJycnWsGHD\n",
              "XH9FCc9kZ2dbPXr0sIKCgqyuXbtat9xyi2VZbef3IF9oCQAAjMDbTwAAwAhEDQAAMAJRAwAAjEDU\n",
              "AAAAIxA1AADACEQNAAAwAlEDAACMQNQAAAAjEDUAAMAIRA0AADDC/wE2kXOysRU4ugAAAABJRU5E\n",
              "rkJggg==\n",
              "\">\n",
              "      </div>\n",
              "      <script type=\"text/javascript\">\n",
              "        (() => {\n",
              "          const chartElement = document.getElementById(\"chart-db382b13-bc22-489b-a00a-6c67b19c7791\");\n",
              "          async function getCodeForChartHandler(event) {\n",
              "            const chartCodeResponse =  await google.colab.kernel.invokeFunction(\n",
              "                'getCodeForChart', [\"chart-db382b13-bc22-489b-a00a-6c67b19c7791\"], {});\n",
              "            const responseJson = chartCodeResponse.data['application/json'];\n",
              "            await google.colab.notebook.addCell(responseJson.code, 'code');\n",
              "          }\n",
              "          chartElement.onclick = getCodeForChartHandler;\n",
              "        })();\n",
              "      </script>\n",
              "      <style>\n",
              "        .colab-quickchart-chart-with-code  {\n",
              "            display: block;\n",
              "            float: left;\n",
              "            border: 1px solid transparent;\n",
              "        }\n",
              "\n",
              "        .colab-quickchart-chart-with-code:hover {\n",
              "            cursor: pointer;\n",
              "            border: 1px solid #aaa;\n",
              "        }\n",
              "      </style>"
            ],
            "text/plain": [
              "from matplotlib import pyplot as plt\n",
              "data['label'].plot(kind='hist', bins=20, title='label')\n",
              "plt.gca().spines[['top', 'right',]].set_visible(False)"
            ]
          },
          "metadata": {},
          "output_type": "display_data"
        },
        {
          "data": {
            "text/html": [
              "<h4 class=\"colab-quickchart-section-title\">Values</h4>\n",
              "<style>\n",
              "  .colab-quickchart-section-title {\n",
              "      clear: both;\n",
              "  }\n",
              "</style>"
            ],
            "text/plain": [
              "<google.colab._quickchart_helpers.SectionTitle at 0x7fd163a62290>"
            ]
          },
          "metadata": {},
          "output_type": "display_data"
        },
        {
          "data": {
            "text/html": [
              "      <div class=\"colab-quickchart-chart-with-code\" id=\"chart-32980198-ee62-476e-a562-18f1d7d0d6c1\">\n",
              "        <img style=\"width: 180px;\" src=\"data:image/png;base64,iVBORw0KGgoAAAANSUhEUgAAApsAAAFuCAYAAADOJdNTAAAAOXRFWHRTb2Z0d2FyZQBNYXRwbG90\n",
              "bGliIHZlcnNpb24zLjcuMSwgaHR0cHM6Ly9tYXRwbG90bGliLm9yZy/bCgiHAAAACXBIWXMAAA9h\n",
              "AAAPYQGoP6dpAAAjM0lEQVR4nO3de3DU9b3/8ddeks09wYRcTNgECEmlXCKaHH+IFWW0HKfCqfSc\n",
              "0+mP2tgCsZfpmfEPKW0Zx/m14vl1xtbTc2aIwskMMqVnCrbD2P78HR0ZtZY2ULUKXkiUsCvkQkiy\n",
              "m+tmL5/fH2h+bkMom+RDNuH5mNkZsvvZ3c++u6zP7rLfOIwxRgAAAIAFzpneAAAAAOYuYhMAAADW\n",
              "EJsAAACwhtgEAACANcQmAAAArCE2AQAAYA2xCQAAAGuITQAAAFhDbAIAAMAaYhMArtDatWv1wx/+\n",
              "cNrXTsThcOjFF1+c0m0AwEwjNgEAAGANsQkAAABriE0AmIRt27apoqJCWVlZWrhwoR555BHFYrG4\n",
              "NX19fbrvvvuUnZ2tyspK7du3L+7yP/3pT1q7dq3y8/NVXl6unTt3KhKJXM2HAQDWEZsAMAl1dXX6\n",
              "05/+pP7+fh04cED//u//rqeffjpuzd69e/XAAw+ot7dX//Zv/6YtW7botddekyS9//77WrdunR58\n",
              "8EF1dnbqlVde0eHDh/Wv//qvM/FwAMAaYhMAJmHLli0qKiqSw+HQLbfcos2bN+u///u/49bcc889\n",
              "uvfee+V2u3XPPffoi1/8ov7zP/9TkvQf//Efuvfee/XlL39Zbrdb5eXlevjhh9XU1DQTDwcArHHP\n",
              "9AYAYLYxxuixxx7TL37xC507d07GGI2MjKi2tjZu3cKFC8f9/Prrr0uSWlpadOTIEeXl5Y1dHovF\n",
              "xn0UDwCzHe9sAkCCfvnLX+pnP/uZ9u3bp+7ubvX19amhoUHGmLh1bW1t434uKyuTJBUXF+srX/mK\n",
              "+vr6xk7BYFADAwNX62EAwFVBbAJAggKBgNxutwoLC+VwOHTkyBHt379/3Lrf/e53+u1vf6toNKrn\n",
              "n39ev/71r/XAAw9Ikr71rW/p4MGD+tWvfqXR0VFFo1G1trbq+eefv9oPBwCsIjYBIEH19fVat26d\n",
              "li9froKCAu3evVubN28et+7rX/+69u7dq7y8PH3729/W7t27ddttt0mSamtr9cILL+jpp59WaWmp\n",
              "8vPz9aUvfUlnzpy52g8HAKxymL/+3AcAAACYJryzCQAAAGuITQAAAFhDbAIAAMAaYhMAAADWEJsA\n",
              "AACwhtgEAACANcQmAAAArEnK2HzyySdnegsAAACYBkkZm/wGDQAAgLkhKWMTAAAAcwOxCQAAAGuI\n",
              "TQAAAFhDbAIAAMAaYhMAAADWEJsAAACwhtgEAACANcQmAAAArEkoNr/73e+qoqJCDodDb7755oTr\n",
              "9u7dqyVLlmjx4sXaunWrwuHwVPcJAACAWSih2PzSl76k3//+9yovL59wzenTp7Vz5069+uqram1t\n",
              "VWdnp5566qkpbxQAAACzT0Kx+bnPfU5lZWWXXXPw4EFt2LBBxcXFcjgcevDBB3XgwIEpbRIAAACz\n",
              "k3u6b9Dn88W981lRUSGfzzfh+lAopFAoFHdeNBqd7m1NKBKNadX/ekHBkcgVrXc5HYrGzBWtvaN6\n",
              "voIjEf35TO9UtnjF0lNcGg5PfnapLqdGo7GErrOkMEstXQOTvs/pkpnq0uDo1XveTJe6hdep+XTP\n",
              "Fa9P9HHmpqcoMBz/z1gKslLVPTB6yfUV+RnK9Lh18lzwiu8Dk1OSm6b2wMhMb2POKsjyqHsg9LcX\n",
              "YkJl89L1Ue/wJS9zOx1aW12oF9/tvMq7ml7X56bp3Cz9e/jw+mr97+ffjzvvtiUFeuYbfzdDO5rY\n",
              "jH9BaNeuXcrNzY07NTc3X7X7f/aNs1ccmpKuODQl6cj7569aaEqaUmhKSjg0JSVFaEqalaEpKaHQ\n",
              "lBJ/nH8dmpImDE1JarswRGheJYSmXYTm1E0UmpIUiZlZH5qSZm1oShoXmpL0aku3wpP4b7lt0x6b\n",
              "Xq9XZ86cGfu5ra1NXq93wvU7duxQIBCIO9XV1U33tibUOzjxf3gBAAAwNdMem5s2bdLhw4fV0dEh\n",
              "Y4x2796tL3/5yxOu93g8ysnJiTu5XK7p3hYAAABmQEKx2dDQoLKyMn300Uf6/Oc/r8rKSknSli1b\n",
              "dPjwYUnSokWL9Oijj+rWW29VZWWl5s+fr4aGhunfOQAAAJJeQl8QamxsvOT5e/bsift569at2rp1\n",
              "6+R3BQAAgDlhxr8gBAAAgLmL2AQAAIA1xCYAAACsITYBAABgDbEJAAAAa4hNAAAAWENsAgAAwBpi\n",
              "EwAAANYQmwAAALCG2AQAAIA1xCYAAACsITYBAABgDbEJAAAAa4hNAAAAWENsAgAAwBpiEwAAYI4w\n",
              "ZqZ3MB6xCQAAAGuITQAAAFhDbAIAAMAaYhMAAADWEJsAAACwhtgEAACANcQmAADAHGGUfMc+IjYB\n",
              "AABgDbEJAAAAa4hNAAAAWENsAgAAwBpiEwAAANYQmwAAALCG2AQAAJgjTPId+YjYBAAAgD3EJgAA\n",
              "AKwhNgEAAGANsQkAAABriE0AAABYQ2wCAADAGmITAAAA1hCbAAAAsIbYBAAAgDXEJgAAAKwhNgEA\n",
              "AGANsQkAAABriE0AAABYQ2wCAADMEcbM9A7GIzYBAABgDbEJAAAAa4hNAAAAWJNwbLa0tGj16tWq\n",
              "qqpSbW2tTp48OW5NLBbTQw89pKVLl2rFihW644471NraOi0bBgAAwOyRcGw2NDRo27ZtOnXqlLZv\n",
              "3676+vpxaw4fPqzXXntNf/nLX/TWW29p3bp1+v73vz8d+wUAAMAsklBsdnV16fjx49q8ebMkadOm\n",
              "TfL7/ePetXQ4HAqFQhoZGZExRsFgUGVlZdO3awAAAIxjlHxfR3cnstjv96ukpERu98WrORwOeb1e\n",
              "+Xw+VVZWjq279957deTIERUXFys7O1ulpaV6+eWXL3mboVBIoVAo7rxoNJro4wAAAEASsvIFoePH\n",
              "j+vEiRM6e/aszp07p3Xr1unBBx+85Npdu3YpNzc37tTc3GxjWwAAALjKEorNBQsWqL29XZFIRJJk\n",
              "jJHP55PX641bt2/fPt15553Ky8uT0+nU1772NR05cuSSt7ljxw4FAoG4U11d3SQfDgAAAJJJQrFZ\n",
              "WFioVatWaf/+/ZKkQ4cOqaysLO4jdElatGiRXnrpJY2OjkqSnnvuOS1btuySt+nxeJSTkxN3crlc\n",
              "k3ksAAAASDIJ/ZtNSWpsbFR9fb0ee+wx5eTkqKmpSZK0ZcsWbdiwQRs2bNC3v/1tvfvuu1q5cqVS\n",
              "UlJUXFys3bt3T/vmAQAAkNwSjs3q6modPXp03Pl79uwZ+7PH49HTTz89tZ0BAABg1uM3CAEAAMwR\n",
              "JvmOfERsAgAAwB5iEwAAANYQmwAAALCG2AQAAIA1xCYAAACsITYBAABgDbEJAAAwRyThkY+ITQAA\n",
              "ANhDbAIAAMAaYhMAAADWEJsAAACwhtgEAACANcQmAAAArCE2AQAA5ghjku/gR8QmAAAArCE2AQAA\n",
              "YA2xCQAAAGuITQAAAFhDbAIAAMAaYhMAAADWEJsAAABzRPId+IjYBAAAgEXEJgAAAKwhNgEAAGAN\n",
              "sQkAAABriE0AAABYQ2wCAADAGmITAABgjjBJeOwjYhMAAADWEJsAAACwhtgEAACANcQmAAAArCE2\n",
              "AQAAYA2xCQAAMFfwbXQAAABcS4hNAAAAWENsAgAAwBpiEwAAANYQmwAAALCG2AQAAIA1xCYAAMAc\n",
              "YZLw2EfEJgAAAKwhNgEAAGANsQkAAABriE0AAABYQ2wCAADAmoRjs6WlRatXr1ZVVZVqa2t18uTJ\n",
              "S657++23tXbtWt1www264YYb9Oyzz055swAAAJhd3IleoaGhQdu2bVN9fb0OHjyo+vp6HTt2LG7N\n",
              "0NCQNm7cqH379mnNmjWKRqPq6emZtk0DAABgPJN8Rz5K7J3Nrq4uHT9+XJs3b5Ykbdq0SX6/X62t\n",
              "rXHrfvGLX+iWW27RmjVrJEkul0vz58+fpi0DAABgtkgoNv1+v0pKSuR2X3xD1OFwyOv1yufzxa17\n",
              "55135PF49IUvfEE1NTW6//77df78+UveZigUUjAYjDtFo9FJPhwAAAAkEytfEIpEInrxxRfV2Nio\n",
              "N954Q6WlpfrmN795ybW7du1Sbm5u3Km5udnGtgAAAHCVJRSbCxYsUHt7uyKRiCTJGCOfzyev1xu3\n",
              "zuv16o477lBpaakcDoc2b96sP/7xj5e8zR07digQCMSd6urqJvlwAAAAkEwSis3CwkKtWrVK+/fv\n",
              "lyQdOnRIZWVlqqysjFv3T//0Tzp27JiCwaAk6Xe/+51Wrlx5ydv0eDzKycmJO7lcrsk8FgAAACSZ\n",
              "hL+N3tjYqPr6ej322GPKyclRU1OTJGnLli3asGGDNmzYIK/Xq+9///tavXq1nE6nSktL9dRTT037\n",
              "5gEAAJDcEo7N6upqHT16dNz5e/bsifv5q1/9qr761a9OfmcAAABISBIe+YjfIAQAAAB7iE0AAABY\n",
              "Q2wCAADAGmITAAAA1hCbAAAAsIbYBAAAgDXEJgAAwBxhTPId/IjYBAAAgDXEJgAAAKwhNgEAAGAN\n",
              "sQkAAABriE0AAABYQ2wCAADAGmITAABgjki+Ax8RmwAAALCI2AQAAIA1xCYAAACsITYBAABgDbEJ\n",
              "AAAAa4hNAACAOcIk4dfRiU0AAABYQ2wCAADAGmITAAAA1hCbAAAAsIbYBAAAgDXEJgAAAKwhNgEA\n",
              "AOYIo+Q79hGxCQAAAGuITQAAAFhDbAIAAMAaYhMAAADWEJsAAACwhtgEAACANcQmAADAXJF8Rz4i\n",
              "NgEAAGAPsQkAAABriE0AAABYQ2wCAADAGmITAAAA1hCbAAAAsIbYBAAAmCOS8MhHxCYAAADsITYB\n",
              "AABgDbEJAAAAa4hNAAAAWENsAgAAwBpiEwAAANYkHJstLS1avXq1qqqqVFtbq5MnT0641hijO++8\n",
              "U3l5eVPZIwAAAK6AScJjHyUcmw0NDdq2bZtOnTql7du3q76+fsK1P/3pT7V48eKp7A8AAACzWEKx\n",
              "2dXVpePHj2vz5s2SpE2bNsnv96u1tXXc2pMnT+o3v/mNvve9703PTgEAADDruBNZ7Pf7VVJSIrf7\n",
              "4tUcDoe8Xq98Pp8qKyvH1oXDYW3dulV79+6Vy+W67G2GQiGFQqG486LRaCLbAgAAQJKy8gWhRx99\n",
              "VPfdd59uuOGGv7l2165dys3NjTs1Nzfb2BYAAACusoRic8GCBWpvb1ckEpF08QtAPp9PXq83bt3L\n",
              "L7+sn//856qoqNCaNWsUDAZVUVGh8+fPj7vNHTt2KBAIxJ3q6uqm8JAAAACQLBL6GL2wsFCrVq3S\n",
              "/v37VV9fr0OHDqmsrCzuI3RJevXVV8f+3NbWppqaGrW1tV3yNj0ejzweT9x5f+ujdwAAAMwOCX+M\n",
              "3tjYqMbGRlVVVenxxx9XU1OTJGnLli06fPjwtG8QAAAAV8Yo+Y59lNA7m5JUXV2to0ePjjt/z549\n",
              "l1xfUVGhvr6+hDcGAACA2Y/fIAQAAABriE0AAABYQ2wCAADAGmITAAAA1hCbAAAAc4RJvi+jE5sA\n",
              "AACwh9gEAACANcQmAAAArCE2AQAAYA2xCQAAAGuITQAAAFhDbAIAAMwRSXjkI2ITAAAA9hCbAAAA\n",
              "sIbYBAAAgDXEJgAAAKwhNgEAAGANsQkAAABriE0AAIA5wpjkO/gRsQkAAABriE0AAABYQ2wCAADA\n",
              "GmITAAAA1hCbAAAAsIbYBAAAgDXEJgAAwByRhEc+IjYBAABgD7EJAAAAa4hNAAAAWENsAgAAwBpi\n",
              "EwAAANYQmwAAALCG2AQAAIA1xCYAAACsITYBAABgDbEJAAAAa4hNAAAAWENsAgAAwBpiEwAAYI4w\n",
              "ZqZ3MB6xCQAAAGuITQAAAFhDbAIAAMAaYhMAAADWEJsAAACwhtgEAACANcQmAADAHGGUfMc+IjYB\n",
              "AABgTcKx2dLSotWrV6uqqkq1tbU6efLkuDUvvfSS6urqtHTpUn32s5/Vww8/rFgsNi0bBgAAwOyR\n",
              "cGw2NDRo27ZtOnXqlLZv3676+vpxa+bNm6df/vKXeuedd/TnP/9Zf/jDH7Rv377p2C8AAABmkYRi\n",
              "s6urS8ePH9fmzZslSZs2bZLf71dra2vcuhtvvFGLFi2SJKWlpammpkZtbW3Ts2MAAADMGu5EFvv9\n",
              "fpWUlMjtvng1h8Mhr9crn8+nysrKS16no6NDBw8e1HPPPXfJy0OhkEKhUNx50Wg0kW0BAAAgSVn9\n",
              "glAwGNS9996rhx9+WDfffPMl1+zatUu5ublxp+bmZpvbAgAAwFWSUGwuWLBA7e3tikQikiRjjHw+\n",
              "n7xe77i1/f39Wr9+vTZu3KiHHnpowtvcsWOHAoFA3Kmuri7BhwEAAACTfEc+Siw2CwsLtWrVKu3f\n",
              "v1+SdOjQIZWVlY37CH1gYEDr16/X+vXr9cMf/vCyt+nxeJSTkxN3crlcCT4MAAAAJKOEP0ZvbGxU\n",
              "Y2Ojqqqq9Pjjj6upqUmStGXLFh0+fFiS9OSTT6q5uVnPPvusampqVFNTox//+MfTu3MAAAAkvYS+\n",
              "ICRJ1dXVOnr06Ljz9+zZM/bnH/zgB/rBD34wtZ0BAABg1uM3CAEAAMAaYhMAAADWEJsAAACwhtgE\n",
              "AACYI5LwyEfEJgAAAOwhNgEAAGANsQkAAABriE0AAABYQ2wCAADAGmITAAAA1hCbAAAAc4QxyXfw\n",
              "I2ITAAAA1hCbAAAAsIbYBAAAgDXEJgAAAKwhNgEAAGANsQkAAABriE0AAIA5IvkOfERsAgAAwCJi\n",
              "EwAAANYQmwAAALCG2AQAAIA1xCYAAACsITYBAADmCJOEX0cnNgEAAGANsQkAAABriE0AAABYQ2wC\n",
              "AADAGmITAAAA1hCbAAAAsIbYBAAAmDOS79hHxCYAAACsITYBAABgDbEJAAAAa4hNAAAAWENsAgAA\n",
              "wBpiEwAAANYQmwAAAHOESb4jHxGbAAAAsIfYBAAAgDXEJgAAAKwhNgEAAGANsQkAAABriE0AAABY\n",
              "Q2wCAADMEUl45CNiEwAAAPYQmwAAALAm4dhsaWnR6tWrVVVVpdraWp08efKS6/bu3aslS5Zo8eLF\n",
              "2rp1q8Lh8JQ3CwAAgNkl4dhsaGjQtm3bdOrUKW3fvl319fXj1pw+fVo7d+7Uq6++qtbWVnV2duqp\n",
              "p56ajv0CAABgFkkoNru6unT8+HFt3rxZkrRp0yb5/X61trbGrTt48KA2bNig4uJiORwOPfjggzpw\n",
              "4MD07RoAAACzQkKx6ff7VVJSIrfbLUlyOBzyer3y+Xxx63w+n8rLy8d+rqioGLfmE6FQSMFgMO4U\n",
              "jUYTfRwAAADXvD+0ds/0FsaZ8S8I7dq1S7m5uXGn5ubmq3b/Gamuq3ZfQDKYn+2Z6S0AACzJTkuZ\n",
              "6S2M405k8YIFC9Te3q5IJCK32y1jjHw+n7xeb9w6r9erDz74YOzntra2cWs+sWPHDj300ENx5+3c\n",
              "uTORbU3J2upC7fj7qH7f2q0lhdmqLMxScCSswHBYS0ty1DccVqrLoZFwTKlup+78TKHOXBhSR3BE\n",
              "aW6nYkbypFxs9jPdgzp2plejkZi+sWahQpGY2vuGNTQaldvlkMvpUEvngBbNz1Rr14DyMlKVmepS\n",
              "Vppbpzr6FTVGQ6NR3bIoXx2BEaWlONV2YUjzMlKUkeqWx+1UNGbkcjqUk5airv4RGSPd6J2nrv4R\n",
              "5WWkyN8zrOvz0uXrGdJgKKLgcFjzMlOVl5GiE2cDqizMVmG2R+f6hjU4GlUkGlNaikvpKS4VZKeq\n",
              "byis/pGIegZH5e8ZUlVxthYVZKqrP6S0FJdWefP09tmA0twufdQ7pMWFWQqFYzrW1qPgSFjzsz26\n",
              "dXGBmtt6NBKOqTDbo3kZKRocjSoaM4pEY6rx5qk9MCJ/z7AuDIS0oixXvp4hLS/LU2vXgE53D2pR\n",
              "QabO9g3rRm+eTpwNKsXl0Oc/Wyynw6FjbT2Kxox6h0bVGRzRrZUFuj43XSfOBdQ/EpExUs9gSPlZ\n",
              "Hq1ckKcLAyFdl5mqE2cDyvS4leJy6sLAqMLRmOZne1Sck6a+4VH1DIZVkJUql9Oh99r7teC6dJXN\n",
              "y1Br14Ak6XVfr4py0vQ/Fufro54h9QyN6pZF+YpEjS4Mjqqrf0QOOVSSm6bugZCyPG51D4Tk6xlS\n",
              "eX6myualq28orFOd/cpMdauyMEvzsz3qDI4oLcWlFJdToUhU4WhMKS6nXE6HWrsGlJOWotauAS0v\n",
              "y9X1eWnqCISUnnLx8vRUtwLDYfkuDKp7cFQLP76fodGonA5peVmu/uIPjD3/AsNh/c+6cgVHwnr6\n",
              "1Q9VnJumv1uYr+bTPXI5paUluSrK8eid9qDe6+hXmtulktw0hWMxZaa6FYpE1T0wqmjMyON2qqs/\n",
              "pKIcj/pHIuofiaggK1U9g2GtKs/TmQtDkqRozMjpkLoHRpWXkaLrMlN15sKQFs3PVIrLqZbOfmV5\n",
              "UlRVlKXeobDebQ8q0+PW4vmZ6h0aVcxI3f0hlRdkan5WqvpHIvL3DqtnMKS89FTdUJKj9zuCOhcY\n",
              "kcvhkNMp1SzI04XBUaW6nB/fv0OpbqfC0Zj6RyIKjoS1aVWZ3uvo1+nuAVXkZ6ozOKIF12XowsCo\n",
              "BkORi38vOwe04Lr0sf8NJKmqKFu9Q6MX55/iUu/QqDoCI7r7s0XqDIb0fke/VpXP07vtQXUFQ8rP\n",
              "StXKsjx91Duk8vwMfXB+UIHhsD5TnK1jbb1yOKS/W3idPugaUGA4rI03lsp3YUj9oYhuXzJfH/UN\n",
              "6bXWbhVkeRQcjuj8wIhWlOUpJy1FHrdTfcOj+qBrUCkup0YiUX2mOFtVRdl6/kSHjCSXw6F5mSnq\n",
              "HQxraDSijFS3osboo94hVRdlKxIzGh6NKi8jRfMyUuV2OeRxuxQcDuujvmGd7h5UTppb5fkZisYu\n",
              "/t1K//j1qLooWzFj9PbZgC4Mjmr14nydPBfUYCiiRQWZOhcY0QddA1qzpEAOSYHhiKqLs5WR6tLR\n",
              "Dy+ouihb/SNhyeFQOBJTitup/3uiQ/csL9HQaERvnw0oHI2pMDtNK8pylZ/l0QddA7praZH+z4l2\n",
              "BYcjKsrxqGcwrJx0t6Kxi3spzUtXSW6aTncPqbo4S2cuDGl5aa6OtfXqtiUFOj8Q0omzAX3xxlKV\n",
              "52eq6bXTKsz26MyFIf398hJdGAhJkvKzUvVue7+MMRqNGr39UZ9cTqfuWlqo091DWliQqZbOfoWj\n",
              "Mfl6htQ7FNa8jBQtuC5DHrdTxbnpcjml0+cH9ZmSHL19NqAbSnLk7xlSR2BEFQWZGgpF5HBc/KSw\n",
              "rXtQKW6n7qwuVN9wWL6eIaWnuHRdZor6RyLKTU/RYCiiSMyof+Ti9fIzUxWNGZ3qGtCSwiz5ey6+\n",
              "bg6Ho2rtGlCWx62cNLc+7B5UdppbkajR56rmK8vj1olzAb1zLqibK+YpEjUKR42Gw1G5HFJ7YERL\n",
              "r8/RYCiqmDE61zesrDS3Ul1OXRgc1cKCTI1GYhoIRdQ7NCqP26WhUERn+4aVnea++BxNT9H7HUH1\n",
              "DI7q+tx0ZXjc6h8JqyQ3Tempbs3LSNFzf2lXeqpL+R//d6o9MCKX06EUl/PjvzOZSk9xyd87pNz0\n",
              "FKW4nDpxNiCn06F5GSlyO51yOKRI1Kh0XrpC4ZhKctN0pmdQxTkX76elq1/zszxjjy8txamzvcOK\n",
              "RI3WLClQqtup9BSXjrzfpWjMqCDr4v8hX1iQqZ7BUVUUZOp4W4+6giF58zM0GokpGjPKSnPL7XTI\n",
              "7XSodyiskUhUxTlpihmpMNuj7oGQegdHleFx68TZgPIyUjQwElHtwuv04flBVRdnqzQvXW/4epWR\n",
              "6tbZvmGV5KbpxNmAPnt9rqLG6Hx/SLdW5n/8Oj+s3qFRLSvN1XA4qusyUtV8+oLCH78eGyMtKcrS\n",
              "6sr8q9ZQV8phjEno+J9r165VfX296uvrdfDgQT3++OM6fvx43JoPP/xQa9as0euvv66ioiJt3LhR\n",
              "d999t77zne9c0X089NBDeuKJJxLZFgAAAJJQwh+jNzY2qrGxUVVVVXr88cfV1NQkSdqyZYsOHz4s\n",
              "SVq0aJEeffRR3XrrraqsrNT8+fPV0NAwvTsHAABA0kv4nc2rgXc2AQAA5oYZ/4IQAAAA5i5iEwAA\n",
              "ANYQmwAAALCG2AQAAIA1xCYAAACsITYBAABgDbEJAAAAa4hNAAAAWENsAgAAwJqk/A1C9913nyoq\n",
              "Kq7a/UWjUTU3N6uurk4ul+uq3e9cwfymhvlNDfObGuY3dcxwapjf1Mzk/MrLy/Uv//Ivf3NdUsbm\n",
              "1RYMBpWbm6tAIKCcnJyZ3s6sw/ymhvlNDfObGuY3dcxwapjf1MyG+fExOgAAAKwhNgEAAGANsQkA\n",
              "AABriE1JHo9HjzzyiDwez0xvZVZiflPD/KaG+U0N85s6Zjg1zG9qZsP8+IIQAAAArOGdTQAAAFhD\n",
              "bAIAAMAaYhMAAADWXPOx2dLSotWrV6uqqkq1tbU6efLkTG8p6VRUVKi6ulo1NTWqqanRf/3Xf0m6\n",
              "/Oyu5bl+97vfVUVFhRwOh958882x8yc7r2ttlhPNb6LnocT8Pm1kZET/8A//oKqqKq1cuVJ33XWX\n",
              "WltbJUldXV1av369lixZomXLlumVV14Zu95kL5trLje/tWvXauHChWPPwZ/+9Kdj12N+8e6++26t\n",
              "WLFCNTU1uu222/TGG29I4nXwSk00v1n7OmiucXfccYdpamoyxhjzq1/9ytx8880zu6EkVF5ebt54\n",
              "441x519udtfyXF9++WXj9/vHzW2y87rWZjnR/CZ6HhrD/D5teHjY/Pa3vzWxWMwYY8zPf/5zc/vt\n",
              "txtjjHnggQfMI488Yowxprm52ZSWlprR0dEpXTbXXG5+t99+u/n1r399yesxv3i9vb1jf3722WfN\n",
              "ihUrjDG8Dl6pieY3W18Hr+nY7OzsNNnZ2SYcDhtjjInFYqaoqMi0tLTM8M6Sy6We3JebHXO96NNz\n",
              "m+y8ruVZXmlsMr/LO3bsmCkvLzfGGJOZmWna29vHLqutrTUvvPDClC6b6z49v8vFJvObWFNTk1m5\n",
              "ciWvg5P0yfyMmb2vg9f0x+h+v18lJSVyu92SJIfDIa/XK5/PN8M7Sz7333+/li9frm984xs6f/78\n",
              "ZWfHXMeb7LyYZby/fh5Kk5/tteLJJ5/Uxo0bdeHCBYXDYRUXF49dVlFRIZ/PN+nLrgWfzO8T3/ve\n",
              "97R8+XL98z//sz788ENJYn4TuP/++7VgwQLt3LlTzzzzDK+DCfrr+X36/Nn2OnhNxyauzCuvvKK3\n",
              "3npLr7/+ugoKCvS1r31tpreEaxDPw8Q99thjam1t1a5du2Z6K7PSX8/vmWee0Xvvvae33npLt912\n",
              "m77whS/M8A6T2759++T3+/WjH/1I27dvn+ntzDqXmt+sfR28au+hJqFkeGt5tjl37pzJyspK+rfs\n",
              "kwEfo0/N5f5t0ifPQ2OS/+OjmfKTn/zE3HTTTXH/9isjI2PCj3Mne9lcdan5/TWPx2O6u7uNMczv\n",
              "b0lLSzMdHR28Dk5SWlra2HPtE7PpdfCafmezsLBQq1at0v79+yVJhw4dUllZmSorK2d4Z8ljcHBQ\n",
              "fX19Yz8fOHBAN95442Vnx1zHm+y8mOVFEz0PpcnPdi574okndODAAb3wwgvKy8sbO/8f//EftXv3\n",
              "bknSsWPHdPbsWd1+++1TumwuutT8IpGIOjs7x9YcOnRIRUVFys/Pl8T8Pq2vr0/nzp0b+/k3v/mN\n",
              "8vPzeR28QhPNLy0tbfa+Dl61rE1S7733nrnlllvMkiVLzE033WTeeuutmd5SUvnggw9MTU2NWb58\n",
              "uVm2bJnZsGGDOX36tDHm8rO7lue6bds2U1paalwulyksLDSLFy82xkx+XtfaLC81v8s9D41hfp/m\n",
              "9/uNJLNo0SKzcuVKs3LlSlNXV2eMMaajo8PcddddprKy0ixdutS89NJLY9eb7GVzzUTzGxgYMDfd\n",
              "dJNZtmyZWbFihbnzzjvNm2++OXY95vf/tbW1mdra2rFZrVu3buxTCl4H/7aJ5jebXwf53egAAACw\n",
              "5pr+GB0AAAB2EZsAAACwhtgEAACANcQmAAAArCE2AQAAYA2xCQAAAGuITQAAAFhDbAIAAMAaYhMA\n",
              "AADWEJsAAACwhtgEAACANf8Pi4PctqguUbgAAAAASUVORK5CYII=\n",
              "\">\n",
              "      </div>\n",
              "      <script type=\"text/javascript\">\n",
              "        (() => {\n",
              "          const chartElement = document.getElementById(\"chart-32980198-ee62-476e-a562-18f1d7d0d6c1\");\n",
              "          async function getCodeForChartHandler(event) {\n",
              "            const chartCodeResponse =  await google.colab.kernel.invokeFunction(\n",
              "                'getCodeForChart', [\"chart-32980198-ee62-476e-a562-18f1d7d0d6c1\"], {});\n",
              "            const responseJson = chartCodeResponse.data['application/json'];\n",
              "            await google.colab.notebook.addCell(responseJson.code, 'code');\n",
              "          }\n",
              "          chartElement.onclick = getCodeForChartHandler;\n",
              "        })();\n",
              "      </script>\n",
              "      <style>\n",
              "        .colab-quickchart-chart-with-code  {\n",
              "            display: block;\n",
              "            float: left;\n",
              "            border: 1px solid transparent;\n",
              "        }\n",
              "\n",
              "        .colab-quickchart-chart-with-code:hover {\n",
              "            cursor: pointer;\n",
              "            border: 1px solid #aaa;\n",
              "        }\n",
              "      </style>"
            ],
            "text/plain": [
              "from matplotlib import pyplot as plt\n",
              "data['label'].plot(kind='line', figsize=(8, 4), title='label')\n",
              "plt.gca().spines[['top', 'right']].set_visible(False)"
            ]
          },
          "metadata": {},
          "output_type": "display_data"
        }
      ],
      "source": [
        "import pandas as pd\n",
        "\n",
        "data = pd.DataFrame(dataset_par, columns=['word_pair', 'label'])\n",
        "data"
      ]
    },
    {
      "cell_type": "markdown",
      "metadata": {
        "id": "cVwg7HvL36Ou"
      },
      "source": [
        "First we need next to collect a \"vocabulary\" of all unique tokens i.e. unique characters. We can then encode inputs as a sequence of character ids."
      ]
    },
    {
      "cell_type": "code",
      "execution_count": null,
      "metadata": {
        "colab": {
          "base_uri": "https://localhost:8080/"
        },
        "id": "okyKKfME36Ox",
        "outputId": "36fcee76-a992-4257-d46e-9d2aeaeca32f"
      },
      "outputs": [
        {
          "name": "stdout",
          "output_type": "stream",
          "text": [
            "num_tokens =  40\n"
          ]
        }
      ],
      "source": [
        "#all unique characters go here\n",
        "tokens = set()\n",
        "for name in data['word_pair']:\n",
        "    tokens.update(set(name))\n",
        "\n",
        "tokens = list(tokens)\n",
        "\n",
        "num_tokens = len(tokens)\n",
        "print ('num_tokens = ', num_tokens)"
      ]
    },
    {
      "cell_type": "markdown",
      "metadata": {
        "id": "VdHeDcPg36Ox"
      },
      "source": [
        "## Convert characters to integers\n",
        "Torch is built for crunching numbers, not strings. To train our neural network, we'll need to replace characters with their indices in tokens list.\n",
        "\n",
        "Let's compose a dictionary that does this mapping."
      ]
    },
    {
      "cell_type": "code",
      "execution_count": null,
      "metadata": {
        "colab": {
          "base_uri": "https://localhost:8080/"
        },
        "id": "K8EdGRK_36Oy",
        "outputId": "c7238585-9a9f-4d68-cef1-abc324828587"
      },
      "outputs": [
        {
          "name": "stdout",
          "output_type": "stream",
          "text": [
            "Seems alright!\n"
          ]
        }
      ],
      "source": [
        "tokens.append('<') # <SOS>\n",
        "tokens.append('>') # <EOS>\n",
        "tokens.append('=') # <PAD>\n",
        "\n",
        "token_to_id = {token: idx for idx, token in enumerate(tokens)}\n",
        "\n",
        "assert len(tokens) == len(token_to_id), \"dictionaries must have same size\"\n",
        "\n",
        "for i in range(num_tokens):\n",
        "    assert token_to_id[tokens[i]] == i, \"token identifier must be it's position in tokens list\"\n",
        "\n",
        "print(\"Seems alright!\")"
      ]
    },
    {
      "cell_type": "code",
      "execution_count": null,
      "metadata": {
        "id": "ELYj6DWm36Oy"
      },
      "outputs": [],
      "source": [
        "def to_matrix(\n",
        "    words, max_len=None, pad=token_to_id['='], dtype='int32', batch_first=True\n",
        "    ):\n",
        "    \"\"\"Casts a list of words into transformer-digestable matrix\"\"\"\n",
        "\n",
        "    max_len = max_len or max(map(len, words))\n",
        "    max_len += 2\n",
        "    words_ix = np.zeros([len(words), max_len], dtype) + pad\n",
        "    words_ix[:, 0] = token_to_id['<'] # <SOS>\n",
        "\n",
        "    for i in range(len(words)):\n",
        "        line_ix = [token_to_id[c] for c in words[i]]\n",
        "        words_ix[i, 1:(len(line_ix) + 1)] = line_ix[:]\n",
        "        words_ix[i, len(line_ix) + 1] = token_to_id['>'] # <EOS>\n",
        "\n",
        "\n",
        "    if not batch_first: # convert [batch, time] into [time, batch]\n",
        "        words_ix = np.transpose(words_ix)\n",
        "\n",
        "    return words_ix"
      ]
    },
    {
      "cell_type": "code",
      "execution_count": null,
      "metadata": {
        "colab": {
          "base_uri": "https://localhost:8080/"
        },
        "id": "p0PWtYfw36Oy",
        "outputId": "35b86102-fccf-47c2-80c7-e550fe9aff4a"
      },
      "outputs": [
        {
          "name": "stdout",
          "output_type": "stream",
          "text": [
            "0    снискать_экологичный\n",
            "1           целый_цельный\n",
            "Name: word_pair, dtype: object\n",
            "\n",
            " [[40 30 25 19 30  9 15 13  3 26 36  9  0 20  0 22 19 31 25 18  8 41]\n",
            " [40 29 24 20 18  8 26 29 24 20  3 25 18  8 41 42 42 42 42 42 42 42]]\n"
          ]
        }
      ],
      "source": [
        "print(data['word_pair'][:2])\n",
        "print('\\n', to_matrix(data['word_pair'][:2]))"
      ]
    },
    {
      "cell_type": "code",
      "execution_count": null,
      "metadata": {
        "colab": {
          "base_uri": "https://localhost:8080/"
        },
        "id": "MPkVeVy436Oz",
        "outputId": "1cd0f91c-c6de-46dd-9661-6ac2834fb951"
      },
      "outputs": [
        {
          "name": "stderr",
          "output_type": "stream",
          "text": [
            "<ipython-input-13-37f2cdd90c9c>:4: SettingWithCopyWarning: \n",
            "A value is trying to be set on a copy of a slice from a DataFrame\n",
            "\n",
            "See the caveats in the documentation: https://pandas.pydata.org/pandas-docs/stable/user_guide/indexing.html#returning-a-view-versus-a-copy\n",
            "  data['word_pair'].iloc[i] = words_matrix[i]\n"
          ]
        }
      ],
      "source": [
        "words_matrix = to_matrix(data['word_pair'])\n",
        "\n",
        "for i in range(len(data['word_pair'])):\n",
        "    data['word_pair'].iloc[i] = words_matrix[i]"
      ]
    },
    {
      "cell_type": "code",
      "execution_count": null,
      "metadata": {
        "id": "vlKbK3G136O0"
      },
      "outputs": [],
      "source": [
        "import torch\n",
        "from torch.utils.data import Dataset, DataLoader\n",
        "\n",
        "class WordPairDataset(Dataset):\n",
        "    def __init__(self, data):\n",
        "        self.data = data\n",
        "\n",
        "    def __len__(self):\n",
        "        return len(self.data)\n",
        "\n",
        "    def __getitem__(self, idx):\n",
        "        word_pair, label = self.data.iloc[idx]\n",
        "\n",
        "        return torch.tensor(word_pair, dtype=torch.long), torch.tensor(label, dtype=torch.long)\n",
        "\n",
        "# Создание экземпляра датасета\n",
        "train_dataset = WordPairDataset(data[:3000])\n",
        "test_dataset = WordPairDataset(data[3001:])\n",
        "\n",
        "# Создание DataLoader\n",
        "batch_size = 32\n",
        "data_train = DataLoader(train_dataset, batch_size=batch_size, shuffle=True)\n",
        "data_test = DataLoader(test_dataset, batch_size=batch_size,)"
      ]
    },
    {
      "cell_type": "code",
      "execution_count": null,
      "metadata": {
        "id": "oAdXRW6D36O0"
      },
      "outputs": [],
      "source": [
        "import torch\n",
        "import torch.nn as nn\n",
        "import torch.optim as optim\n",
        "\n",
        "class SelfAttentionModel(nn.Module):\n",
        "    def __init__(self, input_size, hidden_size, num_classes, num_layers=2, num_heads=8):\n",
        "        super(SelfAttentionModel, self).__init__()\n",
        "\n",
        "        self.embedding = nn.Embedding(input_size, hidden_size)\n",
        "        self.self_attention_layers = nn.ModuleList([\n",
        "            nn.MultiheadAttention(hidden_size, num_heads) for _ in range(num_layers)\n",
        "        ])\n",
        "        self.fc = nn.Linear(hidden_size, num_classes)\n",
        "\n",
        "    def forward(self, x):\n",
        "        embedded = self.embedding(x)\n",
        "        embedded = embedded.permute(1, 0, 2)  # Change the dimensions for Multihead Attention\n",
        "        for layer in self.self_attention_layers:\n",
        "            embedded, _ = layer(embedded, embedded, embedded)\n",
        "        attn_output = embedded.permute(1, 0, 2)  # Reshape to the original dimensions\n",
        "        attn_output = torch.mean(attn_output, dim=1)  # Take the mean across all attention heads\n",
        "        output = self.fc(attn_output)\n",
        "        return output\n",
        "\n",
        "input_size = 7000\n",
        "hidden_size = 128\n",
        "num_layers = 2\n",
        "num_classes = 2\n",
        "\n",
        "model = SelfAttentionModel(input_size, hidden_size, num_classes, num_layers)\n",
        "criterion = nn.CrossEntropyLoss()\n",
        "optimizer = optim.Adam(model.parameters(), lr=0.001)\n"
      ]
    },
    {
      "cell_type": "code",
      "execution_count": null,
      "metadata": {
        "colab": {
          "base_uri": "https://localhost:8080/"
        },
        "id": "ar8rdC5p36O0",
        "outputId": "cff86af5-7e56-4e8b-d577-a14725a4a020"
      },
      "outputs": [
        {
          "name": "stdout",
          "output_type": "stream",
          "text": [
            "Epoch [1/15], Loss: 0.6636743184099806\n",
            "Epoch [2/15], Loss: 0.482049786029978\n",
            "Epoch [3/15], Loss: 0.35614610827983695\n",
            "Epoch [4/15], Loss: 0.298499183253722\n",
            "Epoch [5/15], Loss: 0.26346357301511664\n",
            "Epoch [6/15], Loss: 0.22112969994703505\n",
            "Epoch [7/15], Loss: 0.18736172590325487\n",
            "Epoch [8/15], Loss: 0.17878119164007775\n",
            "Epoch [9/15], Loss: 0.16562467278476725\n",
            "Epoch [10/15], Loss: 0.16390174843291652\n",
            "Epoch [11/15], Loss: 0.15007677707979653\n",
            "Epoch [12/15], Loss: 0.14407614591789056\n",
            "Epoch [13/15], Loss: 0.12805716443727624\n",
            "Epoch [14/15], Loss: 0.11885015093325142\n",
            "Epoch [15/15], Loss: 0.12426018471175686\n"
          ]
        }
      ],
      "source": [
        "num_epochs = 15\n",
        "loss_arr = []\n",
        "\n",
        "model.train()\n",
        "\n",
        "for epoch in range(num_epochs):\n",
        "    running_loss = 0.0\n",
        "\n",
        "    for inputs, labels in data_train:\n",
        "        optimizer.zero_grad()\n",
        "        outputs = model(inputs)\n",
        "        loss = criterion(outputs, labels)\n",
        "        # loss_arr.append(np.mean(loss.data.numpy()))\n",
        "        loss.backward()\n",
        "        optimizer.step()\n",
        "        running_loss += loss.item()\n",
        "\n",
        "    epoch_loss = running_loss / len(data_train)  # средняя ошибка на эпохе\n",
        "    loss_arr.append(epoch_loss)\n",
        "\n",
        "    print(f'Epoch [{epoch + 1}/{num_epochs}], Loss: {epoch_loss}')"
      ]
    },
    {
      "cell_type": "code",
      "execution_count": null,
      "metadata": {
        "colab": {
          "base_uri": "https://localhost:8080/",
          "height": 449
        },
        "id": "SbqHIAEZ36O1",
        "outputId": "afd0c508-12c2-4759-c5b0-28faa900a536"
      },
      "outputs": [
        {
          "data": {
            "image/png": "[encoded data removed]",
            "text/plain": [
              "<Figure size 640x480 with 1 Axes>"
            ]
          },
          "metadata": {},
          "output_type": "display_data"
        }
      ],
      "source": [
        "plt.plot(loss_arr, label='Training Loss')\n",
        "plt.xlabel('Epoch')\n",
        "plt.ylabel('Loss')\n",
        "plt.legend()\n",
        "plt.show()"
      ]
    },
    {
      "cell_type": "code",
      "execution_count": null,
      "metadata": {
        "id": "2OuE4P4936O1"
      },
      "outputs": [],
      "source": [
        "model.eval()\n",
        "\n",
        "true_labels = []\n",
        "predicted_labels = []\n",
        "\n",
        "with torch.no_grad():  # Отключение вычисления градиентов\n",
        "    for inputs, labels in data_test:\n",
        "        outputs = model(inputs)\n",
        "        _, predicted = torch.max(outputs, 1)  # Получение индекса класса с максимальной вероятностью\n",
        "\n",
        "        true_labels.extend(labels.numpy())\n",
        "        predicted_labels.extend(predicted.numpy())\n",
        "\n",
        "true_labels = np.array(true_labels)\n",
        "predicted_labels = np.array(predicted_labels)"
      ]
    },
    {
      "cell_type": "code",
      "execution_count": null,
      "metadata": {
        "colab": {
          "base_uri": "https://localhost:8080/"
        },
        "id": "Res4tiju36O1",
        "outputId": "09d0f272-b906-4cb8-8fc3-0dcde09dfc14"
      },
      "outputs": [
        {
          "name": "stdout",
          "output_type": "stream",
          "text": [
            "Accuracy: 0.9320388349514563\n",
            "Recall: 0.9383259911894273\n",
            "Precision: 0.9102564102564102\n",
            "F1-score: 0.9240780911062907\n"
          ]
        }
      ],
      "source": [
        "from sklearn.metrics import accuracy_score, recall_score, precision_score\n",
        "\n",
        "accuracy = accuracy_score(true_labels, predicted_labels)\n",
        "recall = recall_score(true_labels, predicted_labels, average='binary')\n",
        "precision = precision_score(true_labels, predicted_labels, average='binary')\n",
        "\n",
        "print(f'Accuracy: {accuracy}')\n",
        "print(f'Recall: {recall}')\n",
        "print(f'Precision: {precision}')\n",
        "print(f'F1-score: {2 * precision * recall / (precision + recall)}')"
      ]
    },
    {
      "cell_type": "code",
      "execution_count": null,
      "metadata": {
        "id": "F5sF00jtq3VM"
      },
      "outputs": [],
      "source": [
        "import torch\n",
        "from torch.nn.functional import softmax\n",
        "\n",
        "def predict_paronym(model, word_pair):\n",
        "    model.eval()\n",
        "\n",
        "    # Convert word_pair to matrix\n",
        "    word_pair_matrix = to_matrix([word_pair])\n",
        "\n",
        "    # Convert to torch tensor\n",
        "    input_tensor = torch.tensor(word_pair_matrix, dtype=torch.long)\n",
        "\n",
        "    # Make the prediction\n",
        "    with torch.no_grad():\n",
        "        output = model(input_tensor)\n",
        "\n",
        "    # Apply softmax to get probabilities\n",
        "    probabilities = softmax(output, dim=1)\n",
        "\n",
        "    # Get the predicted label (1 for paronym, 0 for non-paronym)\n",
        "    predicted_label = torch.argmax(probabilities, dim=1).item()\n",
        "\n",
        "    return predicted_label"
      ]
    },
    {
      "cell_type": "code",
      "execution_count": null,
      "metadata": {
        "colab": {
          "base_uri": "https://localhost:8080/"
        },
        "id": "6wla0hw3tL_6",
        "outputId": "a7b40412-5756-4708-f1ad-483d33579a4d"
      },
      "outputs": [
        {
          "name": "stdout",
          "output_type": "stream",
          "text": [
            "Model saved to model.pth\n"
          ]
        }
      ],
      "source": [
        "# Путь для сохранения модели\n",
        "model_path = 'model.pth'\n",
        "\n",
        "# Сохранение весов модели\n",
        "torch.save(model.state_dict(), model_path)\n",
        "\n",
        "print(f'Model saved to {model_path}')\n"
      ]
    },
    {
      "cell_type": "code",
      "execution_count": null,
      "metadata": {
        "colab": {
          "base_uri": "https://localhost:8080/"
        },
        "id": "xo4VdZp6scD2",
        "outputId": "4aa77819-97a4-4a3a-b3a1-cd8c530f17c8"
      },
      "outputs": [
        {
          "data": {
            "text/plain": [
              "<All keys matched successfully>"
            ]
          },
          "execution_count": 29,
          "metadata": {},
          "output_type": "execute_result"
        }
      ],
      "source": [
        "# Replace 'your_model_path.pth' with the actual path to your saved model\n",
        "model = SelfAttentionModel(input_size, hidden_size, num_classes, num_layers)\n",
        "model.load_state_dict(torch.load('model.pth'))\n"
      ]
    },
    {
      "cell_type": "code",
      "execution_count": null,
      "metadata": {
        "colab": {
          "base_uri": "https://localhost:8080/"
        },
        "id": "Aer1u8A0tVd4",
        "outputId": "f151ce9b-a174-4563-d895-51a4e8e434ff"
      },
      "outputs": [
        {
          "name": "stdout",
          "output_type": "stream",
          "text": [
            "The word pair \"свфымсывмфыамфым работа\" is a paronym.\n"
          ]
        }
      ],
      "source": [
        "word_pair_to_check = 'свфымсывмфыамфым работа'\n",
        "predicted_label = predict_paronym(model, word_pair_to_check)\n",
        "\n",
        "if predicted_label == 1:\n",
        "    print(f'The word pair \"{word_pair_to_check}\" is a paronym.')\n",
        "else:\n",
        "    print(f'The word pair \"{word_pair_to_check}\" is not a paronym.')\n"
      ]
    },
    {
      "cell_type": "code",
      "execution_count": null,
      "metadata": {
        "id": "GXPUyCjLaMjE"
      },
      "outputs": [],
      "source": [
        "from fuzzywuzzy import fuzz\n",
        "import Levenshtein\n",
        "\n",
        "def levenshtein_distance(dataset): # вычисление расстояния левенштейна и сходства слов\n",
        "    distances = []\n",
        "\n",
        "    for (word1, word2), _ in dataset:\n",
        "        lev_dist = Levenshtein.distance(word1, word2)\n",
        "        lev_ratio = fuzz.ratio(word1, word2)\n",
        "        distances.append((word1, word2, lev_dist, lev_ratio))\n",
        "\n",
        "    return distances"
      ]
    },
    {
      "cell_type": "code",
      "execution_count": null,
      "metadata": {
        "colab": {
          "base_uri": "https://localhost:8080/"
        },
        "id": "XfmDniQDbEFW",
        "outputId": "de902500-92af-4f80-a71b-6d900ea8c906"
      },
      "outputs": [
        {
          "ename": "ValueError",
          "evalue": "too many values to unpack (expected 2)",
          "output_type": "error",
          "traceback": [
            "\u001b[0;31m---------------------------------------------------------------------------\u001b[0m",
            "\u001b[0;31mValueError\u001b[0m                                Traceback (most recent call last)",
            "Cell \u001b[0;32mIn [162], line 1\u001b[0m\n\u001b[0;32m----> 1\u001b[0m lev \u001b[38;5;241m=\u001b[39m \u001b[43mlevenshtein_distance\u001b[49m\u001b[43m(\u001b[49m\u001b[43mdataset_par\u001b[49m\u001b[43m)\u001b[49m\n\u001b[1;32m      2\u001b[0m lev\n",
            "Cell \u001b[0;32mIn [161], line 7\u001b[0m, in \u001b[0;36mlevenshtein_distance\u001b[0;34m(dataset)\u001b[0m\n\u001b[1;32m      4\u001b[0m \u001b[38;5;28;01mdef\u001b[39;00m \u001b[38;5;21mlevenshtein_distance\u001b[39m(dataset): \u001b[38;5;66;03m# вычисление расстояния левенштейна и сходства слов\u001b[39;00m\n\u001b[1;32m      5\u001b[0m     distances \u001b[38;5;241m=\u001b[39m []\n\u001b[0;32m----> 7\u001b[0m     \u001b[38;5;28;01mfor\u001b[39;00m (word1, word2), _ \u001b[38;5;129;01min\u001b[39;00m dataset:\n\u001b[1;32m      8\u001b[0m         lev_dist \u001b[38;5;241m=\u001b[39m Levenshtein\u001b[38;5;241m.\u001b[39mdistance(word1, word2)\n\u001b[1;32m      9\u001b[0m         lev_ratio \u001b[38;5;241m=\u001b[39m fuzz\u001b[38;5;241m.\u001b[39mratio(word1, word2)\n",
            "\u001b[0;31mValueError\u001b[0m: too many values to unpack (expected 2)"
          ]
        }
      ],
      "source": [
        "lev = levenshtein_distance(dataset_par)\n",
        "lev"
      ]
    },
    {
      "cell_type": "code",
      "execution_count": null,
      "metadata": {
        "id": "Hapxp-y136O2"
      },
      "outputs": [],
      "source": []
    }
  ],
  "metadata": {
    "colab": {
      "provenance": []
    },
    "kernelspec": {
      "display_name": "Python 3.10.7 64-bit",
      "language": "python",
      "name": "python3"
    },
    "language_info": {
      "codemirror_mode": {
        "name": "ipython",
        "version": 3
      },
      "file_extension": ".py",
      "mimetype": "text/x-python",
      "name": "python",
      "nbconvert_exporter": "python",
      "pygments_lexer": "ipython3",
      "version": "3.9.7"
    },
    "vscode": {
      "interpreter": {
        "hash": "aee8b7b246df8f9039afb4144a1f6fd8d2ca17a180786b69acc140d282b71a49"
      }
    }
  },
  "nbformat": 4,
  "nbformat_minor": 0
}
