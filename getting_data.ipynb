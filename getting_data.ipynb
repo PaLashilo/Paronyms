{
  "cells": [
    {
      "cell_type": "code",
      "execution_count": 1,
      "metadata": {
        "colab": {
          "base_uri": "https://localhost:8080/"
        },
        "id": "NmA11UEQawrn",
        "outputId": "acd702c5-8389-4252-f5ba-27f208065644"
      },
      "outputs": [
        {
          "name": "stdout",
          "output_type": "stream",
          "text": [
            "Collecting fuzzywuzzy\n",
            "  Downloading fuzzywuzzy-0.18.0-py2.py3-none-any.whl (18 kB)\n",
            "Installing collected packages: fuzzywuzzy\n",
            "Successfully installed fuzzywuzzy-0.18.0\n",
            "Note: you may need to restart the kernel to use updated packages.\n"
          ]
        },
        {
          "name": "stderr",
          "output_type": "stream",
          "text": [
            "WARNING: Ignoring invalid distribution -pencv-python (c:\\users\\pasin\\anaconda3\\lib\\site-packages)\n",
            "WARNING: Ignoring invalid distribution -illow (c:\\users\\pasin\\anaconda3\\lib\\site-packages)\n",
            "WARNING: Ignoring invalid distribution -pencv-python (c:\\users\\pasin\\anaconda3\\lib\\site-packages)\n",
            "WARNING: Ignoring invalid distribution -illow (c:\\users\\pasin\\anaconda3\\lib\\site-packages)\n",
            "WARNING: Ignoring invalid distribution -pencv-python (c:\\users\\pasin\\anaconda3\\lib\\site-packages)\n",
            "WARNING: Ignoring invalid distribution -illow (c:\\users\\pasin\\anaconda3\\lib\\site-packages)\n",
            "WARNING: Ignoring invalid distribution -pencv-python (c:\\users\\pasin\\anaconda3\\lib\\site-packages)\n",
            "WARNING: Ignoring invalid distribution -illow (c:\\users\\pasin\\anaconda3\\lib\\site-packages)\n",
            "WARNING: Ignoring invalid distribution -pencv-python (c:\\users\\pasin\\anaconda3\\lib\\site-packages)\n",
            "WARNING: Ignoring invalid distribution -illow (c:\\users\\pasin\\anaconda3\\lib\\site-packages)\n",
            "WARNING: Ignoring invalid distribution -pencv-python (c:\\users\\pasin\\anaconda3\\lib\\site-packages)\n",
            "WARNING: Ignoring invalid distribution -illow (c:\\users\\pasin\\anaconda3\\lib\\site-packages)\n",
            "WARNING: Ignoring invalid distribution -pencv-python (c:\\users\\pasin\\anaconda3\\lib\\site-packages)\n",
            "WARNING: Ignoring invalid distribution -illow (c:\\users\\pasin\\anaconda3\\lib\\site-packages)\n"
          ]
        }
      ],
      "source": [
        "%pip install fuzzywuzzy"
      ]
    },
    {
      "cell_type": "code",
      "execution_count": 22,
      "metadata": {},
      "outputs": [
        {
          "name": "stderr",
          "output_type": "stream",
          "text": [
            "�������� ��� 䠩� Data 㦥 �������.\n"
          ]
        }
      ],
      "source": [
        "!mkdir Data"
      ]
    },
    {
      "cell_type": "code",
      "execution_count": 2,
      "metadata": {
        "id": "VJo7rviHii6A"
      },
      "outputs": [],
      "source": [
        "import numpy as np\n",
        "import pandas as pd\n",
        "\n",
        "import random\n",
        "import requests\n",
        "from bs4 import BeautifulSoup\n",
        "import matplotlib.pyplot as plt"
      ]
    },
    {
      "cell_type": "code",
      "execution_count": 3,
      "metadata": {},
      "outputs": [],
      "source": [
        "home_url = 'https://ru-paronym.ru'\n",
        "data_filename = \"Data\\paronym.csv\""
      ]
    },
    {
      "cell_type": "code",
      "execution_count": 13,
      "metadata": {},
      "outputs": [],
      "source": [
        "paronyms = []\n",
        "\n",
        "# взятие паронимов с открытого ресурса\n",
        "ru_alphabet = [chr(i) for i in range(ord('А'), ord('А') + 32)]\n",
        "no_words = ['Ё', 'Й', 'Щ', 'Ъ', 'Ы', 'Ь']\n",
        "\n",
        "# Создаем множество всех слов из датасета паронимов\n",
        "all_words = set()\n",
        "\n",
        "for letter in ru_alphabet:\n",
        "    if letter in no_words:\n",
        "        continue\n",
        "    url = home_url + '/' + letter\n",
        "    html = requests.get(url)\n",
        "    soup = BeautifulSoup(html.content, 'html.parser')\n",
        "    arr = soup.find_all('a', href=True)[2:-27]  # Откидываем первые 2 и последние 27 элемента, которые есть на каждой странице\n",
        "    for elem in arr:\n",
        "        webpage = home_url + elem['href']\n",
        "        words = (elem.string).split(' — ')\n",
        "        paronyms.append([words[0], words[1], 1])  # пары слов - паронимы\n",
        "        paronyms.append([words[1], words[0], 1])  # пара в обратном порядке\n",
        "        all_words.update((words[0], words[1])) # Создаем множество всех слов из датасета паронимов"
      ]
    },
    {
      "cell_type": "code",
      "execution_count": 18,
      "metadata": {
        "colab": {
          "base_uri": "https://localhost:8080/"
        },
        "id": "0ranqsxO1JOO",
        "outputId": "36aa5f4e-9d4a-45c5-b593-949812754176"
      },
      "outputs": [
        {
          "name": "stdout",
          "output_type": "stream",
          "text": [
            "[['абонемент', 'абонент', 1], ['абонент', 'абонемент', 1], ['абстрактность', 'абстракция', 1], ['абстракция', 'абстрактность', 1], ['авантюрин', 'авантюрист', 1]]\n"
          ]
        }
      ],
      "source": [
        "# база данных с кортежами с меткой (1) - паронимы\n",
        "print(paronyms[:5])"
      ]
    },
    {
      "cell_type": "code",
      "execution_count": 19,
      "metadata": {
        "id": "0aHMtbHj10mq"
      },
      "outputs": [],
      "source": [
        "# создание пар слов не паронимов путем перемешивания уже имеющихся слов\n",
        "def generate_non_paronyms(paronyms, seed = None):\n",
        "\n",
        "    non_paronyms = []\n",
        "\n",
        "    if seed:\n",
        "      random.seed(seed)\n",
        "\n",
        "    # Случайные пары из множества всех слов\n",
        "    for _ in range(len(paronyms)):\n",
        "        word1, word2 = random.choices(list(all_words), k=2)\n",
        "        if (word1 + ' ' + word2, 1) not in paronyms:\n",
        "          non_paronyms.append([word1, word2, 0])  # Метка 0, так как это непаронимы\n",
        "\n",
        "    return non_paronyms\n",
        "\n",
        "non_paronyms = generate_non_paronyms(paronyms, 42)"
      ]
    },
    {
      "cell_type": "code",
      "execution_count": 20,
      "metadata": {
        "colab": {
          "base_uri": "https://localhost:8080/"
        },
        "id": "Sx1kGPYl2uak",
        "outputId": "17151866-a7a4-45c0-c3b7-ee7b5b1c0598"
      },
      "outputs": [
        {
          "name": "stdout",
          "output_type": "stream",
          "text": [
            "[['аккордовый', 'квадрат', 0], ['целый', 'цельный', 1], ['женский', 'господний', 0], ['обличительный', 'динамизм', 0], ['сыскать', 'снискать', 1]]\n"
          ]
        }
      ],
      "source": [
        "dataset_par = paronyms + non_paronyms\n",
        "random.shuffle(dataset_par) # перемешивание датасета на всякий случай\n",
        "print(dataset_par[:5])"
      ]
    },
    {
      "cell_type": "code",
      "execution_count": 21,
      "metadata": {
        "colab": {
          "base_uri": "https://localhost:8080/",
          "height": 750
        },
        "id": "76beZ84j36Iy",
        "outputId": "ba376755-2fc2-4b60-bb93-87669a77c1dc"
      },
      "outputs": [],
      "source": [
        "data = pd.DataFrame(dataset_par, columns=['word1', 'word2', 'label'])\n",
        "data.to_csv(data_filename)"
      ]
    },
    {
      "cell_type": "code",
      "execution_count": null,
      "metadata": {},
      "outputs": [],
      "source": []
    },
    {
      "cell_type": "code",
      "execution_count": null,
      "metadata": {},
      "outputs": [],
      "source": []
    }
  ],
  "metadata": {
    "colab": {
      "provenance": []
    },
    "kernelspec": {
      "display_name": "Python 3.10.7 64-bit",
      "language": "python",
      "name": "python3"
    },
    "language_info": {
      "codemirror_mode": {
        "name": "ipython",
        "version": 3
      },
      "file_extension": ".py",
      "mimetype": "text/x-python",
      "name": "python",
      "nbconvert_exporter": "python",
      "pygments_lexer": "ipython3",
      "version": "3.9.7"
    },
    "vscode": {
      "interpreter": {
        "hash": "aee8b7b246df8f9039afb4144a1f6fd8d2ca17a180786b69acc140d282b71a49"
      }
    }
  },
  "nbformat": 4,
  "nbformat_minor": 0
}
